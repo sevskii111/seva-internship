{
 "metadata": {
  "language_info": {
   "codemirror_mode": {
    "name": "ipython",
    "version": 3
   },
   "file_extension": ".py",
   "mimetype": "text/x-python",
   "name": "python",
   "nbconvert_exporter": "python",
   "pygments_lexer": "ipython3",
   "version": "2.7.18-final"
  },
  "orig_nbformat": 2,
  "kernelspec": {
   "name": "Python 2.7.18 64-bit ('dlbook': conda)",
   "display_name": "Python 2.7.18 64-bit ('dlbook': conda)",
   "metadata": {
    "interpreter": {
     "hash": "45b48547625346f82f2a72478bd19f43b12e09bff5521d4b3140a345b1fb5429"
    }
   }
  }
 },
 "nbformat": 4,
 "nbformat_minor": 2,
 "cells": [
  {
   "cell_type": "code",
   "execution_count": 1,
   "metadata": {},
   "outputs": [],
   "source": [
    "%load_ext autoreload\n",
    "%autoreload 2"
   ]
  },
  {
   "cell_type": "code",
   "execution_count": 2,
   "metadata": {},
   "outputs": [],
   "source": [
    "import mnist_loader\n",
    "from network import Network"
   ]
  },
  {
   "cell_type": "code",
   "execution_count": 3,
   "metadata": {},
   "outputs": [],
   "source": [
    "training_data, validation_data, test_data = mnist_loader.load_data_wrapper()"
   ]
  },
  {
   "cell_type": "code",
   "execution_count": 6,
   "metadata": {},
   "outputs": [],
   "source": [
    "net = Network([784, 10])"
   ]
  },
  {
   "cell_type": "code",
   "execution_count": 7,
   "metadata": {},
   "outputs": [
    {
     "output_type": "stream",
     "name": "stdout",
     "text": [
      "Epoch 0: 5105 / 10000\n",
      "Epoch 1: 6026 / 10000\n",
      "Epoch 2: 7420 / 10000\n",
      "Epoch 3: 8511 / 10000\n",
      "Epoch 4: 9113 / 10000\n",
      "Epoch 5: 9124 / 10000\n",
      "Epoch 6: 9128 / 10000\n",
      "Epoch 7: 9123 / 10000\n",
      "Epoch 8: 9146 / 10000\n",
      "Epoch 9: 9127 / 10000\n",
      "Epoch 10: 9143 / 10000\n",
      "Epoch 11: 9112 / 10000\n",
      "Epoch 12: 9130 / 10000\n",
      "Epoch 13: 9170 / 10000\n",
      "Epoch 14: 9162 / 10000\n",
      "Epoch 15: 9173 / 10000\n",
      "Epoch 16: 9162 / 10000\n",
      "Epoch 17: 9166 / 10000\n",
      "Epoch 18: 9170 / 10000\n",
      "Epoch 19: 9167 / 10000\n",
      "Epoch 20: 9163 / 10000\n",
      "Epoch 21: 9162 / 10000\n",
      "Epoch 22: 9123 / 10000\n",
      "Epoch 23: 9165 / 10000\n",
      "Epoch 24: 9170 / 10000\n",
      "Epoch 25: 9165 / 10000\n",
      "Epoch 26: 9184 / 10000\n",
      "Epoch 27: 9170 / 10000\n",
      "Epoch 28: 9171 / 10000\n",
      "Epoch 29: 9121 / 10000\n"
     ]
    }
   ],
   "source": [
    "net.SGD(training_data, 30, 10, 3.0, test_data=test_data)"
   ]
  },
  {
   "cell_type": "code",
   "execution_count": null,
   "metadata": {},
   "outputs": [],
   "source": []
  }
 ]
}