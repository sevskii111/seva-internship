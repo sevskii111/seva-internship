{
 "cells": [
  {
   "cell_type": "markdown",
   "metadata": {},
   "source": [
    "# Задание 3.2 - сверточные нейронные сети (CNNs) в PyTorch\n",
    "\n",
    "Это упражнение мы буде выполнять в Google Colab - https://colab.research.google.com/  \n",
    "Google Colab позволяет запускать код в notebook в облаке Google, где можно воспользоваться бесплатным GPU!  \n",
    "\n",
    "Авторы курса благодарят компанию Google и надеятся, что праздник не закончится.\n",
    "\n",
    "Туториал по настройке Google Colab:  \n",
    "https://medium.com/deep-learning-turkey/google-colab-free-gpu-tutorial-e113627b9f5d  \n",
    "(Keras инсталлировать не нужно, наш notebook сам установит PyTorch)\n"
   ]
  },
  {
   "cell_type": "code",
   "execution_count": 1,
   "metadata": {
    "colab": {},
    "colab_type": "code",
    "id": "FcXBeP1O7cnY"
   },
   "outputs": [],
   "source": [
    "# Intstall PyTorch and download data\n",
    "#!pip3 install torch torchvision\n",
    "\n",
    "#!wget -c http://ufldl.stanford.edu/housenumbers/train_32x32.mat http://ufldl.stanford.edu/housenumbers/test_32x32.mat"
   ]
  },
  {
   "cell_type": "code",
   "execution_count": 2,
   "metadata": {
    "colab": {},
    "colab_type": "code",
    "id": "-afwWw-Q85vD"
   },
   "outputs": [],
   "source": [
    "from collections import namedtuple\n",
    "\n",
    "import matplotlib.pyplot as plt\n",
    "import numpy as np\n",
    "import PIL\n",
    "import torch\n",
    "import torch.nn as nn\n",
    "import torch.optim as optim\n",
    "import torchvision.datasets as dset\n",
    "from torch.utils.data.sampler import SubsetRandomSampler\n",
    "\n",
    "from torchvision import transforms"
   ]
  },
  {
   "cell_type": "code",
   "execution_count": 3,
   "metadata": {
    "colab": {},
    "colab_type": "code",
    "id": "NNU-OD9O9ltP"
   },
   "outputs": [
    {
     "output_type": "stream",
     "name": "stdout",
     "text": [
      "cuda:0\n"
     ]
    }
   ],
   "source": [
    "device = torch.device(\"cuda:0\") # Let's make sure GPU is available!\n",
    "print(device)"
   ]
  },
  {
   "cell_type": "markdown",
   "metadata": {},
   "source": [
    "# Загружаем данные"
   ]
  },
  {
   "cell_type": "code",
   "execution_count": 4,
   "metadata": {
    "colab": {},
    "colab_type": "code",
    "id": "YAvkoRx-9FsP"
   },
   "outputs": [],
   "source": [
    "# First, lets load the dataset\n",
    "data_train = dset.SVHN('./data', \n",
    "                       transform=transforms.Compose([\n",
    "                           transforms.ToTensor(),\n",
    "                           transforms.Normalize(mean=[0.43,0.44,0.47],\n",
    "                                               std=[0.20,0.20,0.20])                           \n",
    "                       ])\n",
    "                      )\n",
    "data_test = dset.SVHN('./data', split='test', transform=transforms.Compose([\n",
    "                           transforms.ToTensor(),\n",
    "                           transforms.Normalize(mean=[0.43,0.44,0.47],\n",
    "                                               std=[0.20,0.20,0.20])                           \n",
    "                       ]))"
   ]
  },
  {
   "cell_type": "markdown",
   "metadata": {},
   "source": [
    "Разделяем данные на training и validation.\n",
    "\n",
    "На всякий случай для подробностей - https://pytorch.org/tutorials/beginner/data_loading_tutorial.html"
   ]
  },
  {
   "cell_type": "code",
   "execution_count": 5,
   "metadata": {
    "colab": {},
    "colab_type": "code",
    "id": "YRnr8CPg7Hli"
   },
   "outputs": [],
   "source": [
    "batch_size = 64\n",
    "\n",
    "data_size = data_train.data.shape[0]\n",
    "validation_split = .2\n",
    "split = int(np.floor(validation_split * data_size))\n",
    "indices = list(range(data_size))\n",
    "np.random.shuffle(indices)\n",
    "\n",
    "train_indices, val_indices = indices[split:], indices[:split]\n",
    "\n",
    "train_sampler = SubsetRandomSampler(train_indices)\n",
    "val_sampler = SubsetRandomSampler(val_indices)\n",
    "\n",
    "train_loader = torch.utils.data.DataLoader(data_train, batch_size=batch_size, \n",
    "                                           sampler=train_sampler)\n",
    "val_loader = torch.utils.data.DataLoader(data_train, batch_size=batch_size,\n",
    "                                         sampler=val_sampler)"
   ]
  },
  {
   "cell_type": "code",
   "execution_count": 6,
   "metadata": {
    "colab": {},
    "colab_type": "code",
    "id": "LyYvt-T67PBG"
   },
   "outputs": [],
   "source": [
    "# We'll use a special helper module to shape it into a flat tensor\n",
    "class Flattener(nn.Module):\n",
    "    def forward(self, x):\n",
    "        batch_size, *_ = x.shape\n",
    "        return x.view(batch_size, -1)"
   ]
  },
  {
   "cell_type": "markdown",
   "metadata": {},
   "source": [
    "Создадим простейшую сеть с новыми слоями:  \n",
    "Convolutional - `nn.Conv2d`  \n",
    "MaxPool - `nn.MaxPool2d`"
   ]
  },
  {
   "cell_type": "code",
   "execution_count": 7,
   "metadata": {
    "colab": {},
    "colab_type": "code",
    "id": "w9SFVGZP7SQd"
   },
   "outputs": [],
   "source": [
    "nn_model = nn.Sequential(\n",
    "            nn.Conv2d(3, 64, 3, padding=1),\n",
    "            nn.ReLU(inplace=True),\n",
    "            nn.MaxPool2d(4),\n",
    "            nn.Conv2d(64, 64, 3, padding=1),\n",
    "            nn.ReLU(inplace=True),\n",
    "            nn.MaxPool2d(4),    \n",
    "            Flattener(),\n",
    "            nn.Linear(64*2*2, 10),\n",
    "          )\n",
    "\n",
    "nn_model.type(torch.cuda.FloatTensor)\n",
    "nn_model.to(device)\n",
    "\n",
    "loss = nn.CrossEntropyLoss().type(torch.cuda.FloatTensor)\n",
    "optimizer = optim.SGD(nn_model.parameters(), lr=1e-1, weight_decay=1e-4)"
   ]
  },
  {
   "cell_type": "markdown",
   "metadata": {},
   "source": [
    "Восстановите функцию `compute_accuracy` из прошлого задания.  \n",
    "Единственное отличие в новом - она должна передать данные на GPU прежде чем прогонять через модель. Сделайте это так же, как это делает функция `train_model`"
   ]
  },
  {
   "cell_type": "code",
   "execution_count": 8,
   "metadata": {
    "colab": {},
    "colab_type": "code",
    "id": "2ek3KVQK7hJ6"
   },
   "outputs": [],
   "source": [
    "def train_model(model, train_loader, val_loader, loss, optimizer, num_epochs, scheduler = None):    \n",
    "    loss_history = []\n",
    "    train_history = []\n",
    "    val_history = []\n",
    "    for epoch in range(num_epochs):\n",
    "        model.train() # Enter train mode\n",
    "        \n",
    "        loss_accum = 0\n",
    "        correct_samples = 0\n",
    "        total_samples = 0\n",
    "\n",
    "        if scheduler is not None:\n",
    "            scheduler.step()\n",
    "\n",
    "        for i_step, (x, y) in enumerate(train_loader):\n",
    "          \n",
    "            x_gpu = x.to(device)\n",
    "            y_gpu = y.to(device)\n",
    "            prediction = model(x_gpu)    \n",
    "            loss_value = loss(prediction, y_gpu)\n",
    "            optimizer.zero_grad()\n",
    "            loss_value.backward()\n",
    "            optimizer.step()\n",
    "            \n",
    "            _, indices = torch.max(prediction, 1)\n",
    "            correct_samples += torch.sum(indices == y_gpu)\n",
    "            total_samples += y.shape[0]\n",
    "            \n",
    "            loss_accum += loss_value\n",
    "\n",
    "        ave_loss = loss_accum / i_step\n",
    "        train_accuracy = float(correct_samples) / total_samples\n",
    "        val_accuracy = compute_accuracy(model, val_loader)\n",
    "        \n",
    "        loss_history.append(float(ave_loss))\n",
    "        train_history.append(train_accuracy)\n",
    "        val_history.append(val_accuracy)\n",
    "        \n",
    "        print(\"Average loss: %f, Train accuracy: %f, Val accuracy: %f\" % (ave_loss, train_accuracy, val_accuracy))\n",
    "        \n",
    "    return loss_history, train_history, val_history\n",
    "        \n",
    "def compute_accuracy(model, loader):\n",
    "    \"\"\"\n",
    "    Computes accuracy on the dataset wrapped in a loader\n",
    "    \n",
    "    Returns: accuracy as a float value between 0 and 1\n",
    "    \"\"\"\n",
    "    model.eval() # Evaluation mode\n",
    "    # TODO: Copy implementation from previous assignment\n",
    "    # Don't forget to move the data to device before running it through the model!\n",
    "    total_samples = 0\n",
    "    correct_samples = torch.zeros((len(loader))).to(device)\n",
    "    with torch.no_grad():\n",
    "        for i_step, (x, y) in enumerate(loader):\n",
    "            gpu_x = x.to(device)\n",
    "            gpu_y = y.to(device)\n",
    "            total_samples += y.shape[0]\n",
    "            prediction = torch.argmax(model(gpu_x), 1)\n",
    "            correct_samples[i_step] = torch.sum(prediction == gpu_y)\n",
    "        \n",
    "    accuracy = float(torch.sum(correct_samples).to('cpu')) / total_samples\n",
    "    return accuracy\n"
   ]
  },
  {
   "cell_type": "code",
   "execution_count": 9,
   "metadata": {},
   "outputs": [
    {
     "output_type": "stream",
     "name": "stdout",
     "text": [
      "Average loss: 2.404673, Train accuracy: 0.194000, Val accuracy: 0.193000\n",
      "Average loss: 2.369369, Train accuracy: 0.206000, Val accuracy: 0.193000\n",
      "Average loss: 2.344592, Train accuracy: 0.224000, Val accuracy: 0.194000\n",
      "Average loss: 2.330539, Train accuracy: 0.230000, Val accuracy: 0.193000\n",
      "Average loss: 2.305414, Train accuracy: 0.220000, Val accuracy: 0.193000\n"
     ]
    }
   ],
   "source": [
    "loss_history, train_history, val_history = train_model(nn_model, train_loader, val_loader, loss, optimizer, 5)"
   ]
  },
  {
   "cell_type": "markdown",
   "metadata": {
    "colab_type": "text",
    "id": "6a-3a1ZFGEw_"
   },
   "source": [
    "# Аугментация данных (Data augmentation)\n",
    "\n",
    "В работе с изображениями одним из особенно важных методов является аугментация данных - то есть, генерация дополнительных данных для тренировки на основе изначальных.   \n",
    "Таким образом, мы получаем возможность \"увеличить\" набор данных для тренировки, что ведет к лучшей работе сети.\n",
    "Важно, чтобы аугментированные данные были похожи на те, которые могут встретиться в реальной жизни, иначе польза от аугментаций уменьшается и может ухудшить работу сети.\n",
    "\n",
    "С PyTorch идут несколько таких алгоритмов, называемых `transforms`. Более подробно про них можно прочитать тут -\n",
    "https://pytorch.org/tutorials/beginner/data_loading_tutorial.html#transforms\n",
    "\n",
    "Ниже мы используем следующие алгоритмы генерации:\n",
    "- ColorJitter - случайное изменение цвета\n",
    "- RandomHorizontalFlip - горизонтальное отражение с вероятностью 50%\n",
    "- RandomVerticalFlip - вертикальное отражение с вероятностью 50%\n",
    "- RandomRotation - случайный поворот"
   ]
  },
  {
   "cell_type": "code",
   "execution_count": 10,
   "metadata": {
    "colab": {},
    "colab_type": "code",
    "id": "jCWMUWmr7t5g"
   },
   "outputs": [],
   "source": [
    "tfs = transforms.Compose([\n",
    "    transforms.ColorJitter(hue=.50, saturation=.50),\n",
    "    transforms.RandomHorizontalFlip(),\n",
    "    transforms.RandomVerticalFlip(),\n",
    "    transforms.RandomRotation(50, resample=PIL.Image.BILINEAR),\n",
    "    transforms.ToTensor(),\n",
    "    transforms.Normalize(mean=[0.43,0.44,0.47],\n",
    "                       std=[0.20,0.20,0.20])                           \n",
    "])\n",
    "\n",
    "# Create augmented train dataset\n",
    "data_aug_train = dset.SVHN('./data', \n",
    "                       transform=tfs\n",
    "                      )\n",
    "\n",
    "train_aug_loader = torch.utils.data.DataLoader(data_aug_train, batch_size=batch_size, \n",
    "                                           sampler=train_sampler)"
   ]
  },
  {
   "cell_type": "markdown",
   "metadata": {},
   "source": [
    "Визуализируем результаты агментации (вообще, смотреть на сгенерированные данные всегда очень полезно)."
   ]
  },
  {
   "cell_type": "code",
   "execution_count": 11,
   "metadata": {
    "colab": {},
    "colab_type": "code",
    "id": "YlJJEro1KZ45"
   },
   "outputs": [
    {
     "output_type": "display_data",
     "data": {
      "text/plain": "<Figure size 2160x216 with 10 Axes>",
      "image/svg+xml": "<?xml version=\"1.0\" encoding=\"utf-8\" standalone=\"no\"?>\n<!DOCTYPE svg PUBLIC \"-//W3C//DTD SVG 1.1//EN\"\n  \"http://www.w3.org/Graphics/SVG/1.1/DTD/svg11.dtd\">\n<!-- Created with matplotlib (https://matplotlib.org/) -->\n<svg height=\"156.264407pt\" version=\"1.1\" viewBox=\"0 0 1688.4 156.264407\" width=\"1688.4pt\" xmlns=\"http://www.w3.org/2000/svg\" xmlns:xlink=\"http://www.w3.org/1999/xlink\">\n <metadata>\n  <rdf:RDF xmlns:cc=\"http://creativecommons.org/ns#\" xmlns:dc=\"http://purl.org/dc/elements/1.1/\" xmlns:rdf=\"http://www.w3.org/1999/02/22-rdf-syntax-ns#\">\n   <cc:Work>\n    <dc:type rdf:resource=\"http://purl.org/dc/dcmitype/StillImage\"/>\n    <dc:date>2020-10-13T01:04:05.342352</dc:date>\n    <dc:format>image/svg+xml</dc:format>\n    <dc:creator>\n     <cc:Agent>\n      <dc:title>Matplotlib v3.3.1, https://matplotlib.org/</dc:title>\n     </cc:Agent>\n    </dc:creator>\n   </cc:Work>\n  </rdf:RDF>\n </metadata>\n <defs>\n  <style type=\"text/css\">*{stroke-linecap:butt;stroke-linejoin:round;}</style>\n </defs>\n <g id=\"figure_1\">\n  <g id=\"patch_1\">\n   <path d=\"M 0 156.264407 \nL 1688.4 156.264407 \nL 1688.4 0 \nL 0 0 \nz\n\" style=\"fill:none;\"/>\n  </g>\n  <g id=\"axes_1\">\n   <g clip-path=\"url(#p1228cb910b)\">\n    <image height=\"142\" id=\"image8e84bb6084\" transform=\"scale(1 -1)translate(0 -142)\" width=\"142\" x=\"7.2\" xlink:href=\"data:image/png;base64,\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\" y=\"-7.064407\"/>\n   </g>\n  </g>\n  <g id=\"axes_2\">\n   <g clip-path=\"url(#p64dec0fce1)\">\n    <image height=\"142\" id=\"image02c506f46d\" transform=\"scale(1 -1)translate(0 -142)\" width=\"142\" x=\"177.437288\" xlink:href=\"data:image/png;base64,\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\" y=\"-7.064407\"/>\n   </g>\n  </g>\n  <g id=\"axes_3\">\n   <g clip-path=\"url(#p33fecaaf46)\">\n    <image height=\"142\" id=\"imagecbea54fc51\" transform=\"scale(1 -1)translate(0 -142)\" width=\"142\" x=\"347.674576\" xlink:href=\"data:image/png;base64,\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\" y=\"-7.064407\"/>\n   </g>\n  </g>\n  <g id=\"axes_4\">\n   <g clip-path=\"url(#p315eb765cb)\">\n    <image height=\"142\" id=\"image67bc93c0b8\" transform=\"scale(1 -1)translate(0 -142)\" width=\"142\" x=\"517.911864\" xlink:href=\"data:image/png;base64,\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\" y=\"-7.064407\"/>\n   </g>\n  </g>\n  <g id=\"axes_5\">\n   <g clip-path=\"url(#p3068282b3a)\">\n    <image height=\"142\" id=\"image1f514b23ba\" transform=\"scale(1 -1)translate(0 -142)\" width=\"142\" x=\"688.149153\" xlink:href=\"data:image/png;base64,\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\" y=\"-7.064407\"/>\n   </g>\n  </g>\n  <g id=\"axes_6\">\n   <g clip-path=\"url(#pff9d7a9d95)\">\n    <image height=\"142\" id=\"image6840c86387\" transform=\"scale(1 -1)translate(0 -142)\" width=\"142\" x=\"858.386441\" xlink:href=\"data:image/png;base64,\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\" y=\"-7.064407\"/>\n   </g>\n  </g>\n  <g id=\"axes_7\">\n   <g clip-path=\"url(#pbff9d350e7)\">\n    <image height=\"142\" id=\"image0e687e4f08\" transform=\"scale(1 -1)translate(0 -142)\" width=\"142\" x=\"1028.623729\" xlink:href=\"data:image/png;base64,\niVBORw0KGgoAAAANSUhEUgAAAI4AAACOCAYAAADn/TAIAAAOUElEQVR4nO2dWY7kaBWFr+3fdgwZWVlV3QzdrACJzSCh3gfwxjMIegGIXfRi2EHzgOjOrMohBs/moRHinnNEpH6V1C/3e7Prtx123HKcvGNhZqv9D7/+zS8NWdcVdpS0xmBJYRUtWZbCH7L4NcMwi/P6Y+7ev6clX3z5C7f97vOfidP4z3w+XWjN8dL5Y6bRbZfG971v9m57t2lpTV01/jz8aCw1/gGuNrnt3/7uz3zQj4iwgCC4ThhOkEUYTpBFwh1lyba0LIvbJs1jZkXhf7gLK3gN6JUZJM0qJA6etyoaWoP71omW2KUf3PbT45HWHI9e95yfX9x2WfCz2TUnt/329kBrNu3Wbdctn6fd+q+iAqn0l69/T8eU8O3148Br4Pts6y2tqSq/JuGJzayAd0y8cYIswnCCLMJwgizCcIIsSAWhUDJTYpiFL++7vmZd8J/52nXjxdy2FeKzufXHVDtaMxg4/Cb2wk0X/4GeHsAhOOIHNjs1XpAOR1b4m9ZfOzX8bG4OXg3v7/x9b/Y1HUN+WfHHRVn4rxhFrpnZuvh9a8HieJz8yeONE2QRhhNkEYYTZEE/ZujsMzMKYCpY4SiNc+W0q3AawkesSnYApuT3yQDr5P+PTL1wdA7+uAReuL7v6Zi585/5XLLQGOC4VPEDnUFDoHevEPddVP6YfmTPZ6r95xv5Fui5VxXbwLqGAzD4BIThBFmE4QRZhOEEWZA4ngYRWn5FBmCBUfVCCF1w8JWwZFHHoMhe+NozBIW7he+hO/psvv4i1uC+BZxu5LE0m+H/3jSpPwpQWPKadfbidx79tYeO73uc/T0dT0r5eifmPPM99J0/rqk5i/Gwv3Pb8cYJsgjDCbIIwwmy4AxAoTMWlDjqNxr2Ybbff87ut0DkpMSOuxp+b6uKg302+/OOEzvYhs47yxahRRaouphXcMKJADA6TLuBr11OXjsNqsoB7vOw+u11Zt0xnL3GOT/ztcfRr+mgksPM7HT0WYyVyAB895l/XvHGCbIIwwmyCMMJsgjDCbJgFaRYUfgKByAeIiLq5EeE85ZClDWNF4VNvaE1FZTYrrMSvrBD1OG+/ewn/lqtzyTsLuxguxzPfvt0pjXnkxefJ1F+vMJXcfPGf+Ay8T31F/89zCNH0FfMdBTPpoCHc+74Pod/PvrPQyuC4BWE4QRZhOEEWZCowECkGRcfrItwANI+tQa3vegpKz6mqiADMLEDsIQ1JgJ5WEq8393Qmvc//cJtv3nrW6ocX9h59vThyW9//Ehrvv/Xd26760ZaM8CuSw9l1wUfc4TA7cAfz/ArnoVzdIZa7EpUObSgNeONE2QRhhNkEYYTZBGGE2SRvvrqV26HdNyBiEXHnZlxxp84D2afzSCoVW887EmjetTgpQtMLTSzduMdh7cbFseff/a5PwYEdFlyhBpLbBMKdeMMu8uZHYBNA8674np/xAGyNVfxHsBItyrxrqCkpxDiuCz9HyXxxgmyCMMJsgjDCbJIhcj4Q0hDXD9EVg2vtBczAtmOcZ9ag85GtebmxrdHuX3D/ZLbrQ9q9oMvn1gmdsJtGv/bP2+5x94G9FXTcjAS96XkdcYiepgU4DDdiGvvNr4P8zLzN3Nz47VcJ3oJziv2fA6CDMJwgizCcIIsSOMsWNJgoqpBaZwVfT3X26VglUNdcwCzhqBmUlUOgNI4LSRl3R72tKYEH8fzk/e3zCPrjC30MF63nGi22/l92y37gyrQK1XyD2vBNihmVkELk9s7vqf3b71vSj0/9K+9CD/T8eKT0eKNE2QRhhNkEYYTZBGGE2TxqiqHsgBVq3ohgxaeVdNdsNPXOBYTCGbcNjObIEtfafcWHHWVKDeeIBMOKxiU7zHtvehuWj7vbuede/sbFsfce9E/82lm52NR+M/bbPjZ7A7YJ5rFO6Z4bnoW2fvO74s3TpBFGE6QRRhOkEXinCzhuCMt8gon4aQqDVDjXHca1i1onIY1xPnk0/tVRSg63bZi6Or9va9QmEbvCKsSnxeDj00jqlFbv68VWgQdrxgQHkXgcQKnYCf6MF8Gfw91rapYsJ0L61OQiPHGCfIIwwmyCMMJsgjDCbJIKMImlWm24iRePhENQ1MpgCSyYfqsio6DKisKFtATNDouxbWx8qESlRB4DzW0FlGB+RKEZJlEFUENw0VqFtBYOTJC38C+ZwdgD3XD39/f8wcE2i9/TvsOB58deTyfaM233/7DbccbJ8giDCfIIgwnyCJhiwse3GpWqPJOAI9TvZAxisl9jq9nAIoERRugl28SImwCzTCJViiYAYjOR1Uhagb9k8WQNWzDpgKsqHEw4KoSKqcedFDFDkCs1FCh5xUcsfPI/VIux0e3HW+cIIswnCCLMJwgizCcIItEYlhWtWAUW6yh3sdCZIM4RgdgVQlhCb1PxpE/4OXsxVxV8RCz89ln8+12LCRRHKcN9r3ja4/gMK0WdtQtIElldiQ+PypbEofAvkX0ZsQ2LHUtpiiD41X9gYR/b8QbJ8giDCfIIgwnyCJRdr34fcOfVzXEjA6TvVAgAxD0iy7v9ccMPWfCdd31DMAXmJ9wc2CN04KmQSWiAqwL9B9eFtYvs6HzUQzMBcchluUOA9933/v7XoSDsh/8fc5CI65gA1ViHVSmaOUWfALCcIIswnCCLNiPo4Kc+NMp/AWMOA8EPnEwa2q48gCPUb/1uA8rHM3MLhevcfqRNU6z8b/t2x20kRMabIJBsqi3zFhDyPgvbKP2VG1OMLi7FqICBOdpiWGu2z20gBPtaq2KWQ7BJyAMJ8giDCfIIgwnyCJx31sxbOwVPQAxEIqiVu3DAWWNCMBhIBQdYz/sg0Cj6EeCAhUzAs3MPr74EuC2RbEsWoSUcF7RjmREIS5KqPGPkhmdhKoFjMiYRHCOxFn097ud7vylRLA5NeEADD4BYThBFmE4QRZpgWygVF2fybQIJ+FrZlqV8ENN41/FLCpcxS3PmCSCdFgtgbrIzKzroa/x6p8F9hX+4fNA+7czD6zvO7+vEIlcFQV8/bX20DLOzGwDbdmE/KNhuOPI2m5e/D58VmZmLVwr3jhBFmE4QRZhOEEWYThBFsnW/y9YFXK+B4phqnowCrNjSa0SxyjDVTEyOhI3O9GnF4Z5oRg14/9F0+Sj7sPAEXVc8/L8SGuGzovuJByUNbRHSeBsbIXgxzbVo4qgg2IuRYuVEkqSy4qf8mYf0fHgExCGE2QRhhNkkXAomApOvgbqYSzafaCuqOF3uxbD3ks4Tymy3LDaUzmwdqB7Dresg9IZJ7FB8FQ4PjGjrjtxG7QFehTXtcp09FoEW9jt977dmplZ0/p76AYOsD7D50miz3EFbViWlZ2E2Js53jhBFmE4QRZhOEEWYThBFknEqGkRVdCoRnzoSBTOPCyHqRNEn0uR0QbOxnFkAdhhllvDJSA9DMi4K1ls3r1547YHGKBxvnDk++X5xW2fhDjG56UcgAW4NnG43M0Ni/nD3Tv/+cQQEIOIfrsRbU5AHI8ic2AFwRxvnCCLMJwgizCcIIuEDjbdpu16n2MqhBC/4zgoDB1hKnMPsw1Vie0JylyrkqsRUIvcHlgztDCIdRr873p34gqB0/PRbfeiigAdkpgJaWYUOWaHID/P7dY/r1UEJy+jf+ZJZDEW4Oice9Y4C+ieeOMEWYThBFmE4QRZhOEEWSR01KmylvkVpS84OAyj7mYsjrHnXt1ydLy/eJGo+rug060sWGR/f//gtpMoc93B0I9h8KL76eUDHfP44PcNQry3N/AHyMLR53EAQQq9BUcxmGNZweFX8nmbDQxaEdHxGXozX8Sgs6//9Ad/KVoRBK8gDCfIIgwnyCJx3YAIcr7iRNTCRGby+996zCrDbTPu5dtPYggXBCOLC2uchwc/6HQWFQsV3Onl/Oy2n46scU4n7wDctnztPdzXIvocdxCgxEFxfc8B1hHuuxT6ZbsD56PQdgP0R3z6yPeJxBsnyCIMJ8giDCfIIq1qQBUuoqpH/p3E3sfU29fMKqhWRE2j2ohYBW1YWl6zPXh/0Fb4g0rwcXz88EBrJvARYXXCeRA6A3wgbcsVDNh/eBLPpodroe/sdPZayszsCPvaG26FUgvdiKAf7MMDPxsk3jhBFmE4QRZhOEEWYThBFjQERLXgpSGsQhxj4YPq1ZfAAVg3mH0o+tOZF5+3729oTbOH/nSr6Jc8+Xt4uTzTmgGqJVbo1bfZwLAMM3uzvXXbhzuunthC+fEinKwLOB87cFB+JwRrB894d6uu7QXzIhoFfrh/dNuPH1mII/HGCbIIwwmyCMMJskg8pkG1OcE2bddboaAuMjNLNVY5gFYqxXA0cAButsK5h8G9SQTyjl6vqFuYCkxY8//eiCqMDfQfVu1IcIDbMHE1qoGTdYBZEy/3rHEennzlRlWzsw9bwKgWe5ejD3J2HQ+To/NeXREEgjCcIIswnCCLMJwgi1SsXjzJQRykWZU49ouqkkVsA+INt9fEx9Q1DkPjNfPqxSZGls3MJmzTkfgemi2KX7+m3nJpcVH7fUXiNSsMUVEZCQWI2BX+Tw9iavHS+XtS81EmbFkyi+EsJZYJiynAeMzVFUEgCMMJsgjDCbJI7Ki7XtOg25748+CALTOzGoa11g206RCt3BpY07aiBQd48zox0wDnHNQbzpZbDYKl8GxUdl/b+sBnJTQOOeGMPx/OZagKaHtXqvZq0J5EaKdqBX0l5OkG2rstokIFiTdOkEUYTpBFGE6QRRhOkEX65pu//9if4b/89W9/pH0VlKzWIgI8QXZfv3IZywTR5nJlEbtAZmNhKPBZHNsCwnISzjNQpPPI/18X2IeO2VoMP5npNCIjgdbwtfeQQTmLLIXrZwmCVxCGE2QRhhNk8W/5lrTrQ2O0qgAAAABJRU5ErkJggg==\" y=\"-7.064407\"/>\n   </g>\n  </g>\n  <g id=\"axes_8\">\n   <g clip-path=\"url(#p3720f61d47)\">\n    <image height=\"142\" id=\"imagea555c5ce1f\" transform=\"scale(1 -1)translate(0 -142)\" width=\"142\" x=\"1198.861017\" xlink:href=\"data:image/png;base64,\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\" y=\"-7.064407\"/>\n   </g>\n  </g>\n  <g id=\"axes_9\">\n   <g clip-path=\"url(#p319afac96d)\">\n    <image height=\"142\" id=\"imagee8093f6ff4\" transform=\"scale(1 -1)translate(0 -142)\" width=\"142\" x=\"1369.098305\" xlink:href=\"data:image/png;base64,\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\" y=\"-7.064407\"/>\n   </g>\n  </g>\n  <g id=\"axes_10\">\n   <g clip-path=\"url(#pef1efd504f)\">\n    <image height=\"142\" id=\"image07885cb3da\" transform=\"scale(1 -1)translate(0 -142)\" width=\"142\" x=\"1539.335593\" xlink:href=\"data:image/png;base64,\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\" y=\"-7.064407\"/>\n   </g>\n  </g>\n </g>\n <defs>\n  <clipPath id=\"p1228cb910b\">\n   <rect height=\"141.864407\" width=\"141.864407\" x=\"7.2\" y=\"7.2\"/>\n  </clipPath>\n  <clipPath id=\"p64dec0fce1\">\n   <rect height=\"141.864407\" width=\"141.864407\" x=\"177.437288\" y=\"7.2\"/>\n  </clipPath>\n  <clipPath id=\"p33fecaaf46\">\n   <rect height=\"141.864407\" width=\"141.864407\" x=\"347.674576\" y=\"7.2\"/>\n  </clipPath>\n  <clipPath id=\"p315eb765cb\">\n   <rect height=\"141.864407\" width=\"141.864407\" x=\"517.911864\" y=\"7.2\"/>\n  </clipPath>\n  <clipPath id=\"p3068282b3a\">\n   <rect height=\"141.864407\" width=\"141.864407\" x=\"688.149153\" y=\"7.2\"/>\n  </clipPath>\n  <clipPath id=\"pff9d7a9d95\">\n   <rect height=\"141.864407\" width=\"141.864407\" x=\"858.386441\" y=\"7.2\"/>\n  </clipPath>\n  <clipPath id=\"pbff9d350e7\">\n   <rect height=\"141.864407\" width=\"141.864407\" x=\"1028.623729\" y=\"7.2\"/>\n  </clipPath>\n  <clipPath id=\"p3720f61d47\">\n   <rect height=\"141.864407\" width=\"141.864407\" x=\"1198.861017\" y=\"7.2\"/>\n  </clipPath>\n  <clipPath id=\"p319afac96d\">\n   <rect height=\"141.864407\" width=\"141.864407\" x=\"1369.098305\" y=\"7.2\"/>\n  </clipPath>\n  <clipPath id=\"pef1efd504f\">\n   <rect height=\"141.864407\" width=\"141.864407\" x=\"1539.335593\" y=\"7.2\"/>\n  </clipPath>\n </defs>\n</svg>\n",
      "image/png": "[encoded data removed]"
     },
     "metadata": {
      "needs_background": "light"
     }
    }
   ],
   "source": [
    "# TODO: Visualize some augmented images!\n",
    "# hint: you can create new datasets and loaders to accomplish this\n",
    "\n",
    "# Based on the visualizations, should we keep all the augmentations?\n",
    "\n",
    "tfs = transforms.Compose([\n",
    "    transforms.ColorJitter(hue=.20, saturation=.20),\n",
    "    transforms.RandomHorizontalFlip(),\n",
    "    transforms.RandomVerticalFlip(),\n",
    "    transforms.RandomRotation(10, resample=PIL.Image.BILINEAR),\n",
    "])\n",
    "\n",
    "data_aug_vis = dset.SVHN('./data', \n",
    "                       transform=tfs\n",
    "                      )\n",
    "\n",
    "plt.figure(figsize=(30, 3))\n",
    "\n",
    "for i, (x, y) in enumerate(data_aug_vis):\n",
    "    if i == 10:\n",
    "        break\n",
    "    plt.subplot(1, 10, i+1)\n",
    "    plt.grid(False)\n",
    "    plt.imshow(x)\n",
    "    plt.axis('off')"
   ]
  },
  {
   "cell_type": "markdown",
   "metadata": {
    "colab_type": "text",
    "id": "o2LrmsYHoguB"
   },
   "source": [
    "Все ли агментации одинаково полезны на этом наборе данных? Могут ли быть среди них те, которые собьют модель с толку?\n",
    "\n",
    "Выберите из них только корректные"
   ]
  },
  {
   "cell_type": "code",
   "execution_count": 12,
   "metadata": {
    "colab": {},
    "colab_type": "code",
    "id": "evro9ksXGs9u"
   },
   "outputs": [],
   "source": [
    "# TODO: \n",
    "tfs = transforms.Compose([\n",
    "    # TODO: Add good augmentations\n",
    "    transforms.ColorJitter(hue=.20, saturation=.20),\n",
    "    transforms.RandomRotation(10, resample=PIL.Image.BILINEAR),\n",
    "    transforms.ToTensor(),\n",
    "    transforms.Normalize(mean=[0.43,0.44,0.47],\n",
    "                       std=[0.20,0.20,0.20])                           \n",
    "])\n",
    "\n",
    "# TODO create new instances of loaders with the augmentations you chose\n",
    "data_aug_train = dset.SVHN('./data', transform=tfs)\n",
    "train_aug_loader = torch.utils.data.DataLoader(data_aug_train, batch_size=batch_size, sampler=train_sampler)"
   ]
  },
  {
   "cell_type": "code",
   "execution_count": 13,
   "metadata": {
    "colab": {},
    "colab_type": "code",
    "id": "PeO6Zw0DHqPR"
   },
   "outputs": [
    {
     "output_type": "stream",
     "name": "stdout",
     "text": [
      "Average loss: 2.312737, Train accuracy: 0.223000, Val accuracy: 0.197000\n",
      "Average loss: 2.304828, Train accuracy: 0.212000, Val accuracy: 0.212000\n",
      "Average loss: 2.267337, Train accuracy: 0.253000, Val accuracy: 0.201000\n",
      "Average loss: 2.241825, Train accuracy: 0.237000, Val accuracy: 0.233000\n",
      "Average loss: 2.207313, Train accuracy: 0.275000, Val accuracy: 0.229000\n"
     ]
    }
   ],
   "source": [
    "# Finally, let's train with augmentations!\n",
    "\n",
    "# Note we shouldn't use augmentations on validation\n",
    "\n",
    "loss_history, train_history, val_history = train_model(nn_model, train_aug_loader, val_loader, loss, optimizer, 5)"
   ]
  },
  {
   "cell_type": "markdown",
   "metadata": {
    "colab_type": "text",
    "id": "r0bcioK6JBDK"
   },
   "source": [
    "# LeNet\n",
    "Попробуем имплементировать классическую архитектуру сверточной нейронной сети, предложенную Яном ЛеКуном в 1998 году. В свое время она достигла впечатляющих результатов на MNIST, посмотрим как она справится с SVHN?\n",
    "Она описана в статье [\"Gradient Based Learning Applied to Document Recognition\"](http://yann.lecun.com/exdb/publis/pdf/lecun-01a.pdf), попробуйте прочитать ключевые части и имплементировать предложенную архитетуру на PyTorch.\n",
    "\n",
    "Реализовывать слои и функцию ошибки LeNet, которых нет в PyTorch, **не нужно** - просто возьмите их размеры и переведите в уже известные нам Convolutional, Pooling и Fully Connected layers.\n",
    "\n",
    "Если в статье не очень понятно, можно просто погуглить LeNet и разобраться в деталях :)"
   ]
  },
  {
   "cell_type": "code",
   "execution_count": 14,
   "metadata": {
    "colab": {},
    "colab_type": "code",
    "id": "ieEzZUglJAUB"
   },
   "outputs": [],
   "source": [
    "# TODO: Implement LeNet-like architecture for SVHN task\n",
    "lenet_model = nn.Sequential(\n",
    "    nn.Conv2d(3, 6, 5), \n",
    "    nn.MaxPool2d(2, stride=2),\n",
    "    nn.Conv2d(6, 16, 5),\n",
    "    nn.AvgPool2d(2, stride=2),\n",
    "    Flattener(),\n",
    "    nn.Linear(400, 120),\n",
    "    nn.Sigmoid(),\n",
    "    nn.Linear(120, 84),\n",
    "    nn.Sigmoid(),\n",
    "    nn.Linear(84, 10)\n",
    ")\n",
    "\n",
    "lenet_model.type(torch.cuda.FloatTensor)\n",
    "lenet_model.to(device)\n",
    "\n",
    "loss = nn.CrossEntropyLoss().type(torch.cuda.FloatTensor)\n",
    "optimizer = optim.SGD(lenet_model.parameters(), lr=1e-1, weight_decay=1e-4)"
   ]
  },
  {
   "cell_type": "code",
   "execution_count": 15,
   "metadata": {
    "colab": {},
    "colab_type": "code",
    "id": "WMmaPfdeKk9H"
   },
   "outputs": [
    {
     "output_type": "stream",
     "name": "stdout",
     "text": [
      "Average loss: 2.399438, Train accuracy: 0.201000, Val accuracy: 0.193000\n",
      "Average loss: 2.376628, Train accuracy: 0.218000, Val accuracy: 0.193000\n",
      "Average loss: 2.373616, Train accuracy: 0.218000, Val accuracy: 0.193000\n",
      "Average loss: 2.370394, Train accuracy: 0.213000, Val accuracy: 0.193000\n",
      "Average loss: 2.375083, Train accuracy: 0.218000, Val accuracy: 0.193000\n",
      "Average loss: 2.378128, Train accuracy: 0.218000, Val accuracy: 0.193000\n",
      "Average loss: 2.373298, Train accuracy: 0.218000, Val accuracy: 0.198000\n",
      "Average loss: 2.378777, Train accuracy: 0.217000, Val accuracy: 0.193000\n",
      "Average loss: 2.367717, Train accuracy: 0.218000, Val accuracy: 0.193000\n",
      "Average loss: 2.368205, Train accuracy: 0.213000, Val accuracy: 0.193000\n"
     ]
    }
   ],
   "source": [
    "# Let's train it!\n",
    "loss_history, train_history, val_history = train_model(lenet_model, train_aug_loader, val_loader, loss, optimizer, 10)"
   ]
  },
  {
   "cell_type": "markdown",
   "metadata": {
    "colab_type": "text",
    "id": "u_O9qiYySvuj"
   },
   "source": [
    "# Подбор гиперпараметров"
   ]
  },
  {
   "cell_type": "code",
   "execution_count": 16,
   "metadata": {
    "colab": {},
    "colab_type": "code",
    "id": "i6mhfdQ9K-N3"
   },
   "outputs": [
    {
     "output_type": "stream",
     "name": "stdout",
     "text": [
      "0 [0, 4]\n",
      "Average loss: 2.790443, Train accuracy: 0.163000, Val accuracy: 0.193000\n",
      "Average loss: 2.374619, Train accuracy: 0.218000, Val accuracy: 0.193000\n",
      "Average loss: 2.367273, Train accuracy: 0.218000, Val accuracy: 0.193000\n",
      "Average loss: 2.364522, Train accuracy: 0.218000, Val accuracy: 0.193000\n",
      "Average loss: 2.361340, Train accuracy: 0.218000, Val accuracy: 0.193000\n",
      "Average loss: 2.362352, Train accuracy: 0.218000, Val accuracy: 0.193000\n",
      "Average loss: 2.361337, Train accuracy: 0.218000, Val accuracy: 0.193000\n",
      "Average loss: 2.359261, Train accuracy: 0.218000, Val accuracy: 0.193000\n",
      "Average loss: 2.361087, Train accuracy: 0.218000, Val accuracy: 0.193000\n",
      "Average loss: 2.359774, Train accuracy: 0.218000, Val accuracy: 0.193000\n",
      "Hyperparams(learning_rate=1.0, anneal_epochs=1, reg=0.001)\n",
      "RunResult(model=Sequential(\n",
      "  (0): Conv2d(3, 6, kernel_size=(5, 5), stride=(1, 1))\n",
      "  (1): MaxPool2d(kernel_size=2, stride=2, padding=0, dilation=1, ceil_mode=False)\n",
      "  (2): Conv2d(6, 16, kernel_size=(5, 5), stride=(1, 1))\n",
      "  (3): AvgPool2d(kernel_size=2, stride=2, padding=0)\n",
      "  (4): Flattener()\n",
      "  (5): Linear(in_features=400, out_features=120, bias=True)\n",
      "  (6): Sigmoid()\n",
      "  (7): Linear(in_features=120, out_features=84, bias=True)\n",
      "  (8): Sigmoid()\n",
      "  (9): Linear(in_features=84, out_features=10, bias=True)\n",
      "), train_history=[2.790442943572998, 2.374619245529175, 2.3672733306884766, 2.3645219802856445, 2.361339807510376, 2.3623523712158203, 2.361337423324585, 2.3592607975006104, 2.361086845397949, 2.359774112701416], val_history=[0.163, 0.218, 0.218, 0.218, 0.218, 0.218, 0.218, 0.218, 0.218, 0.218], final_val_accuracy=0.193)\n",
      "Average loss: 2.471605, Train accuracy: 0.086000, Val accuracy: 0.078000\n",
      "Average loss: 2.471400, Train accuracy: 0.086000, Val accuracy: 0.078000\n",
      "Average loss: 2.470901, Train accuracy: 0.086000, Val accuracy: 0.078000\n",
      "Average loss: 2.469507, Train accuracy: 0.086000, Val accuracy: 0.078000\n",
      "Average loss: 2.470229, Train accuracy: 0.086000, Val accuracy: 0.078000\n",
      "Average loss: 2.469821, Train accuracy: 0.086000, Val accuracy: 0.078000\n",
      "Average loss: 2.469028, Train accuracy: 0.086000, Val accuracy: 0.078000\n",
      "Average loss: 2.468466, Train accuracy: 0.086000, Val accuracy: 0.078000\n",
      "Average loss: 2.468190, Train accuracy: 0.086000, Val accuracy: 0.078000\n",
      "Average loss: 2.468497, Train accuracy: 0.086000, Val accuracy: 0.078000\n",
      "Hyperparams(learning_rate=0.0001, anneal_epochs=1, reg=0.001)\n",
      "RunResult(model=Sequential(\n",
      "  (0): Conv2d(3, 6, kernel_size=(5, 5), stride=(1, 1))\n",
      "  (1): MaxPool2d(kernel_size=2, stride=2, padding=0, dilation=1, ceil_mode=False)\n",
      "  (2): Conv2d(6, 16, kernel_size=(5, 5), stride=(1, 1))\n",
      "  (3): AvgPool2d(kernel_size=2, stride=2, padding=0)\n",
      "  (4): Flattener()\n",
      "  (5): Linear(in_features=400, out_features=120, bias=True)\n",
      "  (6): Sigmoid()\n",
      "  (7): Linear(in_features=120, out_features=84, bias=True)\n",
      "  (8): Sigmoid()\n",
      "  (9): Linear(in_features=84, out_features=10, bias=True)\n",
      "), train_history=[2.471605062484741, 2.471400260925293, 2.4709010124206543, 2.4695067405700684, 2.470228672027588, 2.4698212146759033, 2.4690282344818115, 2.468465566635132, 2.4681904315948486, 2.4684970378875732], val_history=[0.086, 0.086, 0.086, 0.086, 0.086, 0.086, 0.086, 0.086, 0.086, 0.086], final_val_accuracy=0.078)\n",
      "0 [0, 2]\n",
      "Hyperparams(learning_rate=1.0, anneal_epochs=1, reg=0.001)\n",
      "RunResult(model=Sequential(\n",
      "  (0): Conv2d(3, 6, kernel_size=(5, 5), stride=(1, 1))\n",
      "  (1): MaxPool2d(kernel_size=2, stride=2, padding=0, dilation=1, ceil_mode=False)\n",
      "  (2): Conv2d(6, 16, kernel_size=(5, 5), stride=(1, 1))\n",
      "  (3): AvgPool2d(kernel_size=2, stride=2, padding=0)\n",
      "  (4): Flattener()\n",
      "  (5): Linear(in_features=400, out_features=120, bias=True)\n",
      "  (6): Sigmoid()\n",
      "  (7): Linear(in_features=120, out_features=84, bias=True)\n",
      "  (8): Sigmoid()\n",
      "  (9): Linear(in_features=84, out_features=10, bias=True)\n",
      "), train_history=[2.790442943572998, 2.374619245529175, 2.3672733306884766, 2.3645219802856445, 2.361339807510376, 2.3623523712158203, 2.361337423324585, 2.3592607975006104, 2.361086845397949, 2.359774112701416], val_history=[0.163, 0.218, 0.218, 0.218, 0.218, 0.218, 0.218, 0.218, 0.218, 0.218], final_val_accuracy=0.193)\n",
      "Average loss: 2.467786, Train accuracy: 0.131000, Val accuracy: 0.193000\n",
      "Average loss: 2.412061, Train accuracy: 0.218000, Val accuracy: 0.193000\n",
      "Average loss: 2.389018, Train accuracy: 0.218000, Val accuracy: 0.193000\n",
      "Average loss: 2.375260, Train accuracy: 0.218000, Val accuracy: 0.193000\n",
      "Average loss: 2.370253, Train accuracy: 0.218000, Val accuracy: 0.193000\n",
      "Average loss: 2.368677, Train accuracy: 0.218000, Val accuracy: 0.193000\n",
      "Average loss: 2.365867, Train accuracy: 0.218000, Val accuracy: 0.193000\n",
      "Average loss: 2.366081, Train accuracy: 0.218000, Val accuracy: 0.193000\n",
      "Average loss: 2.365246, Train accuracy: 0.218000, Val accuracy: 0.193000\n",
      "Average loss: 2.364217, Train accuracy: 0.218000, Val accuracy: 0.193000\n",
      "Hyperparams(learning_rate=0.01, anneal_epochs=1, reg=0.001)\n",
      "RunResult(model=Sequential(\n",
      "  (0): Conv2d(3, 6, kernel_size=(5, 5), stride=(1, 1))\n",
      "  (1): MaxPool2d(kernel_size=2, stride=2, padding=0, dilation=1, ceil_mode=False)\n",
      "  (2): Conv2d(6, 16, kernel_size=(5, 5), stride=(1, 1))\n",
      "  (3): AvgPool2d(kernel_size=2, stride=2, padding=0)\n",
      "  (4): Flattener()\n",
      "  (5): Linear(in_features=400, out_features=120, bias=True)\n",
      "  (6): Sigmoid()\n",
      "  (7): Linear(in_features=120, out_features=84, bias=True)\n",
      "  (8): Sigmoid()\n",
      "  (9): Linear(in_features=84, out_features=10, bias=True)\n",
      "), train_history=[2.467785596847534, 2.4120609760284424, 2.3890180587768555, 2.375260353088379, 2.370252847671509, 2.3686769008636475, 2.3658671379089355, 2.3660805225372314, 2.365246057510376, 2.3642165660858154], val_history=[0.131, 0.218, 0.218, 0.218, 0.218, 0.218, 0.218, 0.218, 0.218, 0.218], final_val_accuracy=0.193)\n",
      "0 [1, 2]\n",
      "Average loss: 2.393476, Train accuracy: 0.188000, Val accuracy: 0.193000\n",
      "Average loss: 2.367532, Train accuracy: 0.218000, Val accuracy: 0.193000\n",
      "Average loss: 2.370588, Train accuracy: 0.218000, Val accuracy: 0.193000\n",
      "Average loss: 2.369528, Train accuracy: 0.218000, Val accuracy: 0.193000\n",
      "Average loss: 2.364448, Train accuracy: 0.218000, Val accuracy: 0.193000\n",
      "Average loss: 2.365427, Train accuracy: 0.218000, Val accuracy: 0.193000\n",
      "Average loss: 2.364407, Train accuracy: 0.218000, Val accuracy: 0.193000\n",
      "Average loss: 2.361322, Train accuracy: 0.218000, Val accuracy: 0.193000\n",
      "Average loss: 2.361908, Train accuracy: 0.218000, Val accuracy: 0.193000\n",
      "Average loss: 2.364296, Train accuracy: 0.218000, Val accuracy: 0.193000\n",
      "Hyperparams(learning_rate=0.1, anneal_epochs=1, reg=0.001)\n",
      "RunResult(model=Sequential(\n",
      "  (0): Conv2d(3, 6, kernel_size=(5, 5), stride=(1, 1))\n",
      "  (1): MaxPool2d(kernel_size=2, stride=2, padding=0, dilation=1, ceil_mode=False)\n",
      "  (2): Conv2d(6, 16, kernel_size=(5, 5), stride=(1, 1))\n",
      "  (3): AvgPool2d(kernel_size=2, stride=2, padding=0)\n",
      "  (4): Flattener()\n",
      "  (5): Linear(in_features=400, out_features=120, bias=True)\n",
      "  (6): Sigmoid()\n",
      "  (7): Linear(in_features=120, out_features=84, bias=True)\n",
      "  (8): Sigmoid()\n",
      "  (9): Linear(in_features=84, out_features=10, bias=True)\n",
      "), train_history=[2.3934764862060547, 2.3675315380096436, 2.3705880641937256, 2.369527578353882, 2.364448070526123, 2.3654274940490723, 2.3644068241119385, 2.3613221645355225, 2.361908197402954, 2.3642961978912354], val_history=[0.188, 0.218, 0.218, 0.218, 0.218, 0.218, 0.218, 0.218, 0.218, 0.218], final_val_accuracy=0.193)\n",
      "Hyperparams(learning_rate=0.01, anneal_epochs=1, reg=0.001)\n",
      "RunResult(model=Sequential(\n",
      "  (0): Conv2d(3, 6, kernel_size=(5, 5), stride=(1, 1))\n",
      "  (1): MaxPool2d(kernel_size=2, stride=2, padding=0, dilation=1, ceil_mode=False)\n",
      "  (2): Conv2d(6, 16, kernel_size=(5, 5), stride=(1, 1))\n",
      "  (3): AvgPool2d(kernel_size=2, stride=2, padding=0)\n",
      "  (4): Flattener()\n",
      "  (5): Linear(in_features=400, out_features=120, bias=True)\n",
      "  (6): Sigmoid()\n",
      "  (7): Linear(in_features=120, out_features=84, bias=True)\n",
      "  (8): Sigmoid()\n",
      "  (9): Linear(in_features=84, out_features=10, bias=True)\n",
      "), train_history=[2.467785596847534, 2.4120609760284424, 2.3890180587768555, 2.375260353088379, 2.370252847671509, 2.3686769008636475, 2.3658671379089355, 2.3660805225372314, 2.365246057510376, 2.3642165660858154], val_history=[0.131, 0.218, 0.218, 0.218, 0.218, 0.218, 0.218, 0.218, 0.218, 0.218], final_val_accuracy=0.193)\n",
      "1 [0, 5]\n",
      "Hyperparams(learning_rate=0.01, anneal_epochs=1, reg=0.001)\n",
      "RunResult(model=Sequential(\n",
      "  (0): Conv2d(3, 6, kernel_size=(5, 5), stride=(1, 1))\n",
      "  (1): MaxPool2d(kernel_size=2, stride=2, padding=0, dilation=1, ceil_mode=False)\n",
      "  (2): Conv2d(6, 16, kernel_size=(5, 5), stride=(1, 1))\n",
      "  (3): AvgPool2d(kernel_size=2, stride=2, padding=0)\n",
      "  (4): Flattener()\n",
      "  (5): Linear(in_features=400, out_features=120, bias=True)\n",
      "  (6): Sigmoid()\n",
      "  (7): Linear(in_features=120, out_features=84, bias=True)\n",
      "  (8): Sigmoid()\n",
      "  (9): Linear(in_features=84, out_features=10, bias=True)\n",
      "), train_history=[2.467785596847534, 2.4120609760284424, 2.3890180587768555, 2.375260353088379, 2.370252847671509, 2.3686769008636475, 2.3658671379089355, 2.3660805225372314, 2.365246057510376, 2.3642165660858154], val_history=[0.131, 0.218, 0.218, 0.218, 0.218, 0.218, 0.218, 0.218, 0.218, 0.218], final_val_accuracy=0.193)\n",
      "Average loss: 2.459873, Train accuracy: 0.134000, Val accuracy: 0.193000\n",
      "Average loss: 2.400347, Train accuracy: 0.218000, Val accuracy: 0.193000\n",
      "Average loss: 2.376878, Train accuracy: 0.218000, Val accuracy: 0.193000\n",
      "Average loss: 2.364177, Train accuracy: 0.218000, Val accuracy: 0.193000\n",
      "Average loss: 2.364500, Train accuracy: 0.218000, Val accuracy: 0.193000\n",
      "Average loss: 2.363034, Train accuracy: 0.218000, Val accuracy: 0.193000\n",
      "Average loss: 2.362541, Train accuracy: 0.218000, Val accuracy: 0.193000\n",
      "Average loss: 2.361381, Train accuracy: 0.218000, Val accuracy: 0.193000\n",
      "Average loss: 2.358841, Train accuracy: 0.218000, Val accuracy: 0.193000\n",
      "Average loss: 2.358396, Train accuracy: 0.218000, Val accuracy: 0.193000\n",
      "Hyperparams(learning_rate=0.01, anneal_epochs=50, reg=0.001)\n",
      "RunResult(model=Sequential(\n",
      "  (0): Conv2d(3, 6, kernel_size=(5, 5), stride=(1, 1))\n",
      "  (1): MaxPool2d(kernel_size=2, stride=2, padding=0, dilation=1, ceil_mode=False)\n",
      "  (2): Conv2d(6, 16, kernel_size=(5, 5), stride=(1, 1))\n",
      "  (3): AvgPool2d(kernel_size=2, stride=2, padding=0)\n",
      "  (4): Flattener()\n",
      "  (5): Linear(in_features=400, out_features=120, bias=True)\n",
      "  (6): Sigmoid()\n",
      "  (7): Linear(in_features=120, out_features=84, bias=True)\n",
      "  (8): Sigmoid()\n",
      "  (9): Linear(in_features=84, out_features=10, bias=True)\n",
      "), train_history=[2.4598729610443115, 2.400346517562866, 2.376877546310425, 2.3641765117645264, 2.364499568939209, 2.3630337715148926, 2.3625409603118896, 2.3613810539245605, 2.3588407039642334, 2.358395576477051], val_history=[0.134, 0.218, 0.218, 0.218, 0.218, 0.218, 0.218, 0.218, 0.218, 0.218], final_val_accuracy=0.193)\n",
      "1 [3, 5]\n",
      "Average loss: 2.418583, Train accuracy: 0.153000, Val accuracy: 0.193000\n",
      "Average loss: 2.383622, Train accuracy: 0.218000, Val accuracy: 0.193000\n",
      "Average loss: 2.369283, Train accuracy: 0.218000, Val accuracy: 0.193000\n",
      "Average loss: 2.364172, Train accuracy: 0.218000, Val accuracy: 0.193000\n",
      "Average loss: 2.362409, Train accuracy: 0.218000, Val accuracy: 0.193000\n",
      "Average loss: 2.362315, Train accuracy: 0.218000, Val accuracy: 0.193000\n",
      "Average loss: 2.359858, Train accuracy: 0.218000, Val accuracy: 0.193000\n",
      "Average loss: 2.359306, Train accuracy: 0.218000, Val accuracy: 0.193000\n",
      "Average loss: 2.356709, Train accuracy: 0.218000, Val accuracy: 0.193000\n",
      "Average loss: 2.363315, Train accuracy: 0.218000, Val accuracy: 0.193000\n",
      "Hyperparams(learning_rate=0.01, anneal_epochs=15, reg=0.001)\n",
      "RunResult(model=Sequential(\n",
      "  (0): Conv2d(3, 6, kernel_size=(5, 5), stride=(1, 1))\n",
      "  (1): MaxPool2d(kernel_size=2, stride=2, padding=0, dilation=1, ceil_mode=False)\n",
      "  (2): Conv2d(6, 16, kernel_size=(5, 5), stride=(1, 1))\n",
      "  (3): AvgPool2d(kernel_size=2, stride=2, padding=0)\n",
      "  (4): Flattener()\n",
      "  (5): Linear(in_features=400, out_features=120, bias=True)\n",
      "  (6): Sigmoid()\n",
      "  (7): Linear(in_features=120, out_features=84, bias=True)\n",
      "  (8): Sigmoid()\n",
      "  (9): Linear(in_features=84, out_features=10, bias=True)\n",
      "), train_history=[2.4185831546783447, 2.3836216926574707, 2.3692829608917236, 2.3641719818115234, 2.3624093532562256, 2.3623149394989014, 2.3598575592041016, 2.3593060970306396, 2.3567094802856445, 2.3633148670196533], val_history=[0.153, 0.218, 0.218, 0.218, 0.218, 0.218, 0.218, 0.218, 0.218, 0.218], final_val_accuracy=0.193)\n",
      "Hyperparams(learning_rate=0.01, anneal_epochs=50, reg=0.001)\n",
      "RunResult(model=Sequential(\n",
      "  (0): Conv2d(3, 6, kernel_size=(5, 5), stride=(1, 1))\n",
      "  (1): MaxPool2d(kernel_size=2, stride=2, padding=0, dilation=1, ceil_mode=False)\n",
      "  (2): Conv2d(6, 16, kernel_size=(5, 5), stride=(1, 1))\n",
      "  (3): AvgPool2d(kernel_size=2, stride=2, padding=0)\n",
      "  (4): Flattener()\n",
      "  (5): Linear(in_features=400, out_features=120, bias=True)\n",
      "  (6): Sigmoid()\n",
      "  (7): Linear(in_features=120, out_features=84, bias=True)\n",
      "  (8): Sigmoid()\n",
      "  (9): Linear(in_features=84, out_features=10, bias=True)\n",
      "), train_history=[2.4598729610443115, 2.400346517562866, 2.376877546310425, 2.3641765117645264, 2.364499568939209, 2.3630337715148926, 2.3625409603118896, 2.3613810539245605, 2.3588407039642334, 2.358395576477051], val_history=[0.134, 0.218, 0.218, 0.218, 0.218, 0.218, 0.218, 0.218, 0.218, 0.218], final_val_accuracy=0.193)\n",
      "1 [4, 5]\n",
      "Average loss: 2.456265, Train accuracy: 0.073000, Val accuracy: 0.193000\n",
      "Average loss: 2.398601, Train accuracy: 0.218000, Val accuracy: 0.193000\n",
      "Average loss: 2.379188, Train accuracy: 0.218000, Val accuracy: 0.193000\n",
      "Average loss: 2.366878, Train accuracy: 0.218000, Val accuracy: 0.193000\n",
      "Average loss: 2.365169, Train accuracy: 0.218000, Val accuracy: 0.193000\n",
      "Average loss: 2.363313, Train accuracy: 0.218000, Val accuracy: 0.193000\n",
      "Average loss: 2.363955, Train accuracy: 0.218000, Val accuracy: 0.193000\n",
      "Average loss: 2.360981, Train accuracy: 0.218000, Val accuracy: 0.193000\n",
      "Average loss: 2.361778, Train accuracy: 0.218000, Val accuracy: 0.193000\n",
      "Average loss: 2.362653, Train accuracy: 0.218000, Val accuracy: 0.193000\n",
      "Hyperparams(learning_rate=0.01, anneal_epochs=20, reg=0.001)\n",
      "RunResult(model=Sequential(\n",
      "  (0): Conv2d(3, 6, kernel_size=(5, 5), stride=(1, 1))\n",
      "  (1): MaxPool2d(kernel_size=2, stride=2, padding=0, dilation=1, ceil_mode=False)\n",
      "  (2): Conv2d(6, 16, kernel_size=(5, 5), stride=(1, 1))\n",
      "  (3): AvgPool2d(kernel_size=2, stride=2, padding=0)\n",
      "  (4): Flattener()\n",
      "  (5): Linear(in_features=400, out_features=120, bias=True)\n",
      "  (6): Sigmoid()\n",
      "  (7): Linear(in_features=120, out_features=84, bias=True)\n",
      "  (8): Sigmoid()\n",
      "  (9): Linear(in_features=84, out_features=10, bias=True)\n",
      "), train_history=[2.456265449523926, 2.3986008167266846, 2.37918758392334, 2.366877555847168, 2.365168571472168, 2.3633129596710205, 2.363955020904541, 2.3609812259674072, 2.3617775440216064, 2.3626534938812256], val_history=[0.073, 0.218, 0.218, 0.218, 0.218, 0.218, 0.218, 0.218, 0.218, 0.218], final_val_accuracy=0.193)\n",
      "Hyperparams(learning_rate=0.01, anneal_epochs=50, reg=0.001)\n",
      "RunResult(model=Sequential(\n",
      "  (0): Conv2d(3, 6, kernel_size=(5, 5), stride=(1, 1))\n",
      "  (1): MaxPool2d(kernel_size=2, stride=2, padding=0, dilation=1, ceil_mode=False)\n",
      "  (2): Conv2d(6, 16, kernel_size=(5, 5), stride=(1, 1))\n",
      "  (3): AvgPool2d(kernel_size=2, stride=2, padding=0)\n",
      "  (4): Flattener()\n",
      "  (5): Linear(in_features=400, out_features=120, bias=True)\n",
      "  (6): Sigmoid()\n",
      "  (7): Linear(in_features=120, out_features=84, bias=True)\n",
      "  (8): Sigmoid()\n",
      "  (9): Linear(in_features=84, out_features=10, bias=True)\n",
      "), train_history=[2.4598729610443115, 2.400346517562866, 2.376877546310425, 2.3641765117645264, 2.364499568939209, 2.3630337715148926, 2.3625409603118896, 2.3613810539245605, 2.3588407039642334, 2.358395576477051], val_history=[0.134, 0.218, 0.218, 0.218, 0.218, 0.218, 0.218, 0.218, 0.218, 0.218], final_val_accuracy=0.193)\n",
      "2 [0, 3]\n",
      "Hyperparams(learning_rate=0.01, anneal_epochs=50, reg=0.001)\n",
      "RunResult(model=Sequential(\n",
      "  (0): Conv2d(3, 6, kernel_size=(5, 5), stride=(1, 1))\n",
      "  (1): MaxPool2d(kernel_size=2, stride=2, padding=0, dilation=1, ceil_mode=False)\n",
      "  (2): Conv2d(6, 16, kernel_size=(5, 5), stride=(1, 1))\n",
      "  (3): AvgPool2d(kernel_size=2, stride=2, padding=0)\n",
      "  (4): Flattener()\n",
      "  (5): Linear(in_features=400, out_features=120, bias=True)\n",
      "  (6): Sigmoid()\n",
      "  (7): Linear(in_features=120, out_features=84, bias=True)\n",
      "  (8): Sigmoid()\n",
      "  (9): Linear(in_features=84, out_features=10, bias=True)\n",
      "), train_history=[2.4598729610443115, 2.400346517562866, 2.376877546310425, 2.3641765117645264, 2.364499568939209, 2.3630337715148926, 2.3625409603118896, 2.3613810539245605, 2.3588407039642334, 2.358395576477051], val_history=[0.134, 0.218, 0.218, 0.218, 0.218, 0.218, 0.218, 0.218, 0.218, 0.218], final_val_accuracy=0.193)\n",
      "Average loss: 2.443055, Train accuracy: 0.124000, Val accuracy: 0.193000\n",
      "Average loss: 2.393516, Train accuracy: 0.218000, Val accuracy: 0.193000\n",
      "Average loss: 2.374149, Train accuracy: 0.218000, Val accuracy: 0.193000\n",
      "Average loss: 2.363545, Train accuracy: 0.218000, Val accuracy: 0.193000\n",
      "Average loss: 2.364310, Train accuracy: 0.218000, Val accuracy: 0.193000\n",
      "Average loss: 2.359937, Train accuracy: 0.218000, Val accuracy: 0.193000\n",
      "Average loss: 2.359931, Train accuracy: 0.218000, Val accuracy: 0.193000\n",
      "Average loss: 2.359007, Train accuracy: 0.218000, Val accuracy: 0.193000\n",
      "Average loss: 2.361625, Train accuracy: 0.218000, Val accuracy: 0.193000\n",
      "Average loss: 2.361861, Train accuracy: 0.218000, Val accuracy: 0.193000\n",
      "Hyperparams(learning_rate=0.01, anneal_epochs=50, reg=1e-07)\n",
      "RunResult(model=Sequential(\n",
      "  (0): Conv2d(3, 6, kernel_size=(5, 5), stride=(1, 1))\n",
      "  (1): MaxPool2d(kernel_size=2, stride=2, padding=0, dilation=1, ceil_mode=False)\n",
      "  (2): Conv2d(6, 16, kernel_size=(5, 5), stride=(1, 1))\n",
      "  (3): AvgPool2d(kernel_size=2, stride=2, padding=0)\n",
      "  (4): Flattener()\n",
      "  (5): Linear(in_features=400, out_features=120, bias=True)\n",
      "  (6): Sigmoid()\n",
      "  (7): Linear(in_features=120, out_features=84, bias=True)\n",
      "  (8): Sigmoid()\n",
      "  (9): Linear(in_features=84, out_features=10, bias=True)\n",
      "), train_history=[2.443054676055908, 2.3935158252716064, 2.3741490840911865, 2.3635449409484863, 2.364309549331665, 2.3599367141723633, 2.3599305152893066, 2.359006643295288, 2.3616251945495605, 2.361860513687134], val_history=[0.124, 0.218, 0.218, 0.218, 0.218, 0.218, 0.218, 0.218, 0.218, 0.218], final_val_accuracy=0.193)\n",
      "2 [2, 3]\n",
      "Average loss: 2.463888, Train accuracy: 0.091000, Val accuracy: 0.193000\n",
      "Average loss: 2.403606, Train accuracy: 0.218000, Val accuracy: 0.193000\n",
      "Average loss: 2.377268, Train accuracy: 0.218000, Val accuracy: 0.193000\n",
      "Average loss: 2.368720, Train accuracy: 0.218000, Val accuracy: 0.193000\n",
      "Average loss: 2.368423, Train accuracy: 0.218000, Val accuracy: 0.193000\n",
      "Average loss: 2.360269, Train accuracy: 0.218000, Val accuracy: 0.193000\n",
      "Average loss: 2.362786, Train accuracy: 0.218000, Val accuracy: 0.193000\n",
      "Average loss: 2.362206, Train accuracy: 0.218000, Val accuracy: 0.193000\n",
      "Average loss: 2.359082, Train accuracy: 0.218000, Val accuracy: 0.193000\n",
      "Average loss: 2.358302, Train accuracy: 0.218000, Val accuracy: 0.193000\n",
      "Hyperparams(learning_rate=0.01, anneal_epochs=50, reg=1e-05)\n",
      "RunResult(model=Sequential(\n",
      "  (0): Conv2d(3, 6, kernel_size=(5, 5), stride=(1, 1))\n",
      "  (1): MaxPool2d(kernel_size=2, stride=2, padding=0, dilation=1, ceil_mode=False)\n",
      "  (2): Conv2d(6, 16, kernel_size=(5, 5), stride=(1, 1))\n",
      "  (3): AvgPool2d(kernel_size=2, stride=2, padding=0)\n",
      "  (4): Flattener()\n",
      "  (5): Linear(in_features=400, out_features=120, bias=True)\n",
      "  (6): Sigmoid()\n",
      "  (7): Linear(in_features=120, out_features=84, bias=True)\n",
      "  (8): Sigmoid()\n",
      "  (9): Linear(in_features=84, out_features=10, bias=True)\n",
      "), train_history=[2.4638876914978027, 2.4036059379577637, 2.377267837524414, 2.3687195777893066, 2.368422746658325, 2.3602685928344727, 2.362786054611206, 2.362205743789673, 2.359081745147705, 2.358302116394043], val_history=[0.091, 0.218, 0.218, 0.218, 0.218, 0.218, 0.218, 0.218, 0.218, 0.218], final_val_accuracy=0.193)\n",
      "Hyperparams(learning_rate=0.01, anneal_epochs=50, reg=1e-07)\n",
      "RunResult(model=Sequential(\n",
      "  (0): Conv2d(3, 6, kernel_size=(5, 5), stride=(1, 1))\n",
      "  (1): MaxPool2d(kernel_size=2, stride=2, padding=0, dilation=1, ceil_mode=False)\n",
      "  (2): Conv2d(6, 16, kernel_size=(5, 5), stride=(1, 1))\n",
      "  (3): AvgPool2d(kernel_size=2, stride=2, padding=0)\n",
      "  (4): Flattener()\n",
      "  (5): Linear(in_features=400, out_features=120, bias=True)\n",
      "  (6): Sigmoid()\n",
      "  (7): Linear(in_features=120, out_features=84, bias=True)\n",
      "  (8): Sigmoid()\n",
      "  (9): Linear(in_features=84, out_features=10, bias=True)\n",
      "), train_history=[2.443054676055908, 2.3935158252716064, 2.3741490840911865, 2.3635449409484863, 2.364309549331665, 2.3599367141723633, 2.3599305152893066, 2.359006643295288, 2.3616251945495605, 2.361860513687134], val_history=[0.124, 0.218, 0.218, 0.218, 0.218, 0.218, 0.218, 0.218, 0.218, 0.218], final_val_accuracy=0.193)\n"
     ]
    }
   ],
   "source": [
    "import random\n",
    "import math\n",
    "# The key hyperparameters we're going to tune are learning speed, annealing rate and regularization\n",
    "# We also encourage you to try different optimizers as well\n",
    "\n",
    "Hyperparams = namedtuple(\"Hyperparams\", ['learning_rate', 'anneal_epochs', 'reg'])\n",
    "RunResult = namedtuple(\"RunResult\", ['model', 'train_history', 'val_history', 'final_val_accuracy'])\n",
    "\n",
    "learning_rates = [1e0, 1e-1, 1e-2, 1e-3, 1e-4]\n",
    "anneal_coeff = 0.2\n",
    "anneal_epochs = [1, 5, 10, 15, 20, 50]\n",
    "reg = [1e-3, 1e-4, 1e-5, 1e-7]\n",
    "\n",
    "batch_size = 64\n",
    "epoch_num = 10\n",
    "\n",
    "# Record all the runs here\n",
    "# Key should be Hyperparams and values should be RunResult\n",
    "run_record = {} \n",
    "\n",
    "# Use grid search or random search and record all runs in run_record dictionnary \n",
    "# Important: perform search in logarithmic space!\n",
    "\n",
    "# TODO: Your code here!\n",
    "def lenet_gen():\n",
    "    model = nn.Sequential(\n",
    "                nn.Conv2d(3, 6, 5), \n",
    "                nn.MaxPool2d(2, stride=2),\n",
    "                nn.Conv2d(6, 16, 5),\n",
    "                nn.AvgPool2d(2, stride=2),\n",
    "                Flattener(),\n",
    "                nn.Linear(400, 120),\n",
    "                nn.Sigmoid(),\n",
    "                nn.Linear(120, 84),\n",
    "                nn.Sigmoid(),\n",
    "                nn.Linear(84, 10)\n",
    "    )\n",
    "    model.type(torch.cuda.FloatTensor)\n",
    "    model.to(device)\n",
    "    return model\n",
    "\n",
    "loss = nn.CrossEntropyLoss().type(torch.cuda.FloatTensor)\n",
    "\n",
    "data_aug_train = dset.SVHN('./data', transform=tfs)\n",
    "train_aug_loader = torch.utils.data.DataLoader(data_aug_train, batch_size=batch_size, sampler=train_sampler)\n",
    "val_loader = torch.utils.data.DataLoader(data_train, batch_size=batch_size,\n",
    "                                         sampler=val_sampler)\n",
    "\n",
    "learning_rates_inds = [0, len(learning_rates) - 1]\n",
    "anneal_epochs_inds = [0, len(anneal_epochs) - 1]\n",
    "reg_inds = [0, len(reg) - 1]\n",
    "\n",
    "hyperparams = [learning_rates, anneal_epochs, reg]\n",
    "hyperparams_inds = [learning_rates_inds, anneal_epochs_inds, reg_inds]\n",
    "\n",
    "def isConverged(inds):\n",
    "    return inds[0] == inds[1]\n",
    "\n",
    "for i in range(len(hyperparams_inds)):\n",
    "    while not isConverged(hyperparams_inds[i]):\n",
    "        print(i, hyperparams_inds[i])\n",
    "        lParams = Hyperparams(learning_rates[learning_rates_inds[0]], anneal_epochs[anneal_epochs_inds[0]], reg[reg_inds[0]])\n",
    "        if not lParams in run_record.keys():\n",
    "            model = lenet_gen()\n",
    "            optimizer = optim.SGD(model.parameters(), lr=lParams.learning_rate, weight_decay=lParams.reg)\n",
    "            scheduler = optim.lr_scheduler.StepLR(optimizer, step_size=lParams.anneal_epochs, gamma=(1 - anneal_coeff))\n",
    "            l_loss_history, l_train_history, l_val_history = train_model(model, train_aug_loader, val_loader, loss, optimizer, epoch_num, scheduler)\n",
    "            run_record[lParams] = RunResult(model, l_loss_history, l_train_history, l_val_history[-1])\n",
    "        print(lParams)\n",
    "        print(run_record[lParams])\n",
    "\n",
    "        rParamsArr = [*lParams]\n",
    "        rParamsArr[i] = hyperparams[i][hyperparams_inds[i][-1]]\n",
    "        rParams = Hyperparams(*rParamsArr)\n",
    "        if not rParams in run_record.keys():\n",
    "            model = lenet_gen()\n",
    "            optimizer = optim.SGD(model.parameters(), lr=rParams.learning_rate, weight_decay=rParams.reg)\n",
    "            scheduler = optim.lr_scheduler.StepLR(optimizer, step_size=rParams.anneal_epochs, gamma=(1 - anneal_coeff))\n",
    "            r_loss_history, r_train_history, r_val_history = train_model(model, train_aug_loader, val_loader, loss, optimizer, epoch_num, scheduler)\n",
    "            run_record[rParams] = RunResult(model, r_loss_history, r_train_history, r_val_history[-1])\n",
    "        print(rParams)\n",
    "        print(run_record[rParams])\n",
    "\n",
    "        step = math.ceil((hyperparams_inds[i][1] - hyperparams_inds[i][0]) / 2)\n",
    "        if run_record[lParams].final_val_accuracy > run_record[rParams].final_val_accuracy:\n",
    "            hyperparams_inds[i][1] -= step\n",
    "        else:\n",
    "            hyperparams_inds[i][0] += step\n"
   ]
  },
  {
   "cell_type": "code",
   "execution_count": 17,
   "metadata": {
    "colab": {
     "base_uri": "https://localhost:8080/",
     "height": 34
    },
    "colab_type": "code",
    "id": "Y6xExdw8JB1l",
    "outputId": "a9ad86f8-3e29-45cc-d33f-e6170018a4ed"
   },
   "outputs": [
    {
     "output_type": "stream",
     "name": "stdout",
     "text": [
      "Best validation accuracy: 0.19, best hyperparams: Hyperparams(learning_rate=1.0, anneal_epochs=1, reg=0.001)\n"
     ]
    }
   ],
   "source": [
    "best_val_accuracy = None\n",
    "best_hyperparams = None\n",
    "best_run = None\n",
    "\n",
    "for hyperparams, run_result in run_record.items():\n",
    "    if best_val_accuracy is None or best_val_accuracy < run_result.final_val_accuracy:\n",
    "        best_val_accuracy = run_result.final_val_accuracy\n",
    "        best_hyperparams = hyperparams\n",
    "        best_run = run_result\n",
    "        \n",
    "print(\"Best validation accuracy: %4.2f, best hyperparams: %s\" % (best_val_accuracy, best_hyperparams))\n",
    "        "
   ]
  },
  {
   "cell_type": "markdown",
   "metadata": {
    "colab_type": "text",
    "id": "LOmsR0uVgtgf"
   },
   "source": [
    "# Свободное упражнение - догоним и перегоним LeNet!\n",
    "\n",
    "Попробуйте найти архитектуру и настройки тренировки, чтобы выступить лучше наших бейзлайнов.\n",
    "\n",
    "Что можно и нужно попробовать:\n",
    "- BatchNormalization (для convolution layers он в PyTorch называется [batchnorm2d](https://pytorch.org/docs/stable/nn.html#batchnorm2d))\n",
    "- Изменить количество слоев и их толщину\n",
    "- Изменять количество эпох тренировки\n",
    "- Попробовать и другие агментации"
   ]
  },
  {
   "cell_type": "code",
   "execution_count": 28,
   "metadata": {
    "colab": {},
    "colab_type": "code",
    "id": "tSVhD747icoc"
   },
   "outputs": [
    {
     "output_type": "stream",
     "name": "stdout",
     "text": [
      "Average loss: 1.051597, Train accuracy: 0.688616, Val accuracy: 0.826565\n",
      "Average loss: 0.570527, Train accuracy: 0.827526, Val accuracy: 0.867654\n",
      "Average loss: 0.490840, Train accuracy: 0.850032, Val accuracy: 0.875708\n",
      "Average loss: 0.459317, Train accuracy: 0.858462, Val accuracy: 0.878711\n",
      "Average loss: 0.421553, Train accuracy: 0.872266, Val accuracy: 0.887311\n",
      "Average loss: 0.403989, Train accuracy: 0.875968, Val accuracy: 0.894819\n",
      "Average loss: 0.381168, Train accuracy: 0.882998, Val accuracy: 0.891475\n",
      "Average loss: 0.368015, Train accuracy: 0.887708, Val accuracy: 0.895639\n",
      "Average loss: 0.350679, Train accuracy: 0.892554, Val accuracy: 0.898710\n",
      "Average loss: 0.342053, Train accuracy: 0.895642, Val accuracy: 0.900007\n"
     ]
    }
   ],
   "source": [
    "best_model = nn.Sequential(\n",
    "    nn.Conv2d(3, 6 * 3, 5), \n",
    "    nn.MaxPool2d(2, stride=2),\n",
    "    nn.BatchNorm2d(6 * 3),\n",
    "    nn.Conv2d(6 * 3, 16 * 3, 5),\n",
    "    nn.AvgPool2d(2, stride=2),\n",
    "    nn.BatchNorm2d(16 * 3),\n",
    "    Flattener(),\n",
    "    nn.Linear(5 * 5 * 16 * 3, 120),\n",
    "    nn.BatchNorm1d(120),\n",
    "    nn.ReLU(), \n",
    "    nn.Linear(120, 84),\n",
    "    nn.BatchNorm1d(84),\n",
    "    nn.ReLU(), \n",
    "    nn.Linear(84, 10)\n",
    ")\n",
    "\n",
    "best_model.type(torch.cuda.FloatTensor)\n",
    "best_model.to(device)\n",
    "\n",
    "loss = nn.CrossEntropyLoss().type(torch.cuda.FloatTensor)\n",
    "learning_rate = 5e-4\n",
    "l2 = 1e-4\n",
    "\n",
    "optimizer = optim.Adam(best_model.parameters(), lr=learning_rate, weight_decay=l2)\n",
    "scheduler = optim.lr_scheduler.StepLR(optimizer, step_size=2, gamma=0.85)\n",
    "\n",
    "tfs = transforms.Compose([\n",
    "    transforms.ColorJitter(hue=.20, saturation=.20),\n",
    "    transforms.RandomRotation(10, resample=PIL.Image.BILINEAR),\n",
    "    transforms.ToTensor(),\n",
    "    transforms.Normalize(mean=[0.43,0.44,0.47],\n",
    "                       std=[0.20,0.20,0.20])                           \n",
    "])\n",
    "\n",
    "data_aug_train = dset.SVHN('./data', transform=tfs)\n",
    "\n",
    "batch_size = 64\n",
    "epoches = 10\n",
    "\n",
    "train_sampler = SubsetRandomSampler(train_indices[:])\n",
    "val_sampler = SubsetRandomSampler(val_indices[:])\n",
    "\n",
    "train_aug_loader = torch.utils.data.DataLoader(data_aug_train, batch_size=batch_size, sampler=train_sampler)\n",
    "val_loader = torch.utils.data.DataLoader(data_train, batch_size=batch_size,\n",
    "                                         sampler=val_sampler)\n",
    "\n",
    "loss_history, train_history, val_history = train_model(best_model, train_aug_loader, val_loader, loss, optimizer, epoches, scheduler)"
   ]
  },
  {
   "cell_type": "markdown",
   "metadata": {
    "colab_type": "text",
    "id": "ubeKgBcnhx7N"
   },
   "source": [
    "# Финальный аккорд - проверим лучшую модель на test set\n",
    "\n",
    "В качестве разнообразия - напишите код для прогона модели на test set вы.\n",
    "\n",
    "В результате вы должны натренировать модель, которая покажет более **90%** точности на test set.  \n",
    "Как водится, лучший результат в группе получит дополнительные баллы!"
   ]
  },
  {
   "cell_type": "code",
   "execution_count": 29,
   "metadata": {},
   "outputs": [],
   "source": [
    "test_loader = torch.utils.data.DataLoader(data_test)"
   ]
  },
  {
   "cell_type": "code",
   "execution_count": 30,
   "metadata": {
    "colab": {},
    "colab_type": "code",
    "id": "EIqM1kdeh-hd"
   },
   "outputs": [
    {
     "output_type": "stream",
     "name": "stdout",
     "text": [
      "Final test accuracy -  0.8852181929932391\n"
     ]
    }
   ],
   "source": [
    "# TODO Write the code to compute accuracy on test set\n",
    "final_test_accuracy = compute_accuracy(best_model, test_loader)\n",
    "print(\"Final test accuracy - \", final_test_accuracy)"
   ]
  },
  {
   "cell_type": "code",
   "execution_count": null,
   "metadata": {
    "colab": {},
    "colab_type": "code",
    "id": "BfH6qip6kVX_"
   },
   "outputs": [],
   "source": []
  }
 ],
 "metadata": {
  "accelerator": "GPU",
  "colab": {
   "collapsed_sections": [],
   "name": "PyTorch_CNN.ipynb",
   "provenance": [],
   "version": "0.3.2"
  },
  "kernelspec": {
   "name": "Python 3.7.9 64-bit ('dlcourse': conda)",
   "display_name": "Python 3.7.9 64-bit ('dlcourse': conda)",
   "metadata": {
    "interpreter": {
     "hash": "a4989732f2ed50cf63bab505d8b9cf13d81729f8e91c88bdb9209cddfb2e54c7"
    }
   }
  },
  "language_info": {
   "codemirror_mode": {
    "name": "ipython",
    "version": 3
   },
   "file_extension": ".py",
   "mimetype": "text/x-python",
   "name": "python",
   "nbconvert_exporter": "python",
   "pygments_lexer": "ipython3",
   "version": "3.7.9-final"
  }
 },
 "nbformat": 4,
 "nbformat_minor": 1
}