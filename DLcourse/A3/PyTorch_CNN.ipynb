{
 "cells": [
  {
   "cell_type": "markdown",
   "metadata": {},
   "source": [
    "# Задание 3.2 - сверточные нейронные сети (CNNs) в PyTorch\n",
    "\n",
    "Это упражнение мы буде выполнять в Google Colab - https://colab.research.google.com/  \n",
    "Google Colab позволяет запускать код в notebook в облаке Google, где можно воспользоваться бесплатным GPU!  \n",
    "\n",
    "Авторы курса благодарят компанию Google и надеятся, что праздник не закончится.\n",
    "\n",
    "Туториал по настройке Google Colab:  \n",
    "https://medium.com/deep-learning-turkey/google-colab-free-gpu-tutorial-e113627b9f5d  \n",
    "(Keras инсталлировать не нужно, наш notebook сам установит PyTorch)\n"
   ]
  },
  {
   "cell_type": "code",
   "execution_count": 36,
   "metadata": {
    "colab": {},
    "colab_type": "code",
    "id": "FcXBeP1O7cnY"
   },
   "outputs": [],
   "source": [
    "# Intstall PyTorch and download data\n",
    "#!pip3 install torch torchvision\n",
    "\n",
    "#!wget -c http://ufldl.stanford.edu/housenumbers/train_32x32.mat http://ufldl.stanford.edu/housenumbers/test_32x32.mat"
   ]
  },
  {
   "cell_type": "code",
   "execution_count": 38,
   "metadata": {
    "colab": {},
    "colab_type": "code",
    "id": "-afwWw-Q85vD"
   },
   "outputs": [],
   "source": [
    "from collections import namedtuple\n",
    "\n",
    "import matplotlib.pyplot as plt\n",
    "import numpy as np\n",
    "import PIL\n",
    "import torch\n",
    "import torch.nn as nn\n",
    "import torch.optim as optim\n",
    "import torchvision.datasets as dset\n",
    "from torch.utils.data.sampler import SubsetRandomSampler\n",
    "\n",
    "from torchvision import transforms"
   ]
  },
  {
   "cell_type": "code",
   "execution_count": 39,
   "metadata": {
    "colab": {},
    "colab_type": "code",
    "id": "NNU-OD9O9ltP"
   },
   "outputs": [
    {
     "output_type": "stream",
     "name": "stdout",
     "text": [
      "cuda:0\n"
     ]
    }
   ],
   "source": [
    "device = torch.device(\"cuda:0\") # Let's make sure GPU is available!\n",
    "print(device)"
   ]
  },
  {
   "cell_type": "markdown",
   "metadata": {},
   "source": [
    "# Загружаем данные"
   ]
  },
  {
   "cell_type": "code",
   "execution_count": 40,
   "metadata": {
    "colab": {},
    "colab_type": "code",
    "id": "YAvkoRx-9FsP"
   },
   "outputs": [],
   "source": [
    "# First, lets load the dataset\n",
    "data_train = dset.SVHN('./data', \n",
    "                       transform=transforms.Compose([\n",
    "                           transforms.ToTensor(),\n",
    "                           transforms.Normalize(mean=[0.43,0.44,0.47],\n",
    "                                               std=[0.20,0.20,0.20])                           \n",
    "                       ])\n",
    "                      )\n",
    "data_test = dset.SVHN('./data', split='test', transform=transforms.Compose([\n",
    "                           transforms.ToTensor(),\n",
    "                           transforms.Normalize(mean=[0.43,0.44,0.47],\n",
    "                                               std=[0.20,0.20,0.20])                           \n",
    "                       ]))"
   ]
  },
  {
   "cell_type": "markdown",
   "metadata": {},
   "source": [
    "Разделяем данные на training и validation.\n",
    "\n",
    "На всякий случай для подробностей - https://pytorch.org/tutorials/beginner/data_loading_tutorial.html"
   ]
  },
  {
   "cell_type": "code",
   "execution_count": 41,
   "metadata": {
    "colab": {},
    "colab_type": "code",
    "id": "YRnr8CPg7Hli"
   },
   "outputs": [],
   "source": [
    "batch_size = 64\n",
    "\n",
    "data_size = data_train.data.shape[0]\n",
    "validation_split = .2\n",
    "split = int(np.floor(validation_split * data_size))\n",
    "indices = list(range(data_size))\n",
    "np.random.shuffle(indices)\n",
    "\n",
    "train_indices, val_indices = indices[split:], indices[:split]\n",
    "\n",
    "train_sampler = SubsetRandomSampler(train_indices)\n",
    "val_sampler = SubsetRandomSampler(val_indices)\n",
    "\n",
    "train_loader = torch.utils.data.DataLoader(data_train, batch_size=batch_size, \n",
    "                                           sampler=train_sampler)\n",
    "val_loader = torch.utils.data.DataLoader(data_train, batch_size=batch_size,\n",
    "                                         sampler=val_sampler)"
   ]
  },
  {
   "cell_type": "code",
   "execution_count": 42,
   "metadata": {
    "colab": {},
    "colab_type": "code",
    "id": "LyYvt-T67PBG"
   },
   "outputs": [],
   "source": [
    "# We'll use a special helper module to shape it into a flat tensor\n",
    "class Flattener(nn.Module):\n",
    "    def forward(self, x):\n",
    "        batch_size, *_ = x.shape\n",
    "        return x.view(batch_size, -1)"
   ]
  },
  {
   "cell_type": "markdown",
   "metadata": {},
   "source": [
    "Создадим простейшую сеть с новыми слоями:  \n",
    "Convolutional - `nn.Conv2d`  \n",
    "MaxPool - `nn.MaxPool2d`"
   ]
  },
  {
   "cell_type": "code",
   "execution_count": 43,
   "metadata": {
    "colab": {},
    "colab_type": "code",
    "id": "w9SFVGZP7SQd"
   },
   "outputs": [],
   "source": [
    "nn_model = nn.Sequential(\n",
    "            nn.Conv2d(3, 64, 3, padding=1),\n",
    "            nn.ReLU(inplace=True),\n",
    "            nn.MaxPool2d(4),\n",
    "            nn.Conv2d(64, 64, 3, padding=1),\n",
    "            nn.ReLU(inplace=True),\n",
    "            nn.MaxPool2d(4),    \n",
    "            Flattener(),\n",
    "            nn.Linear(64*2*2, 10),\n",
    "          )\n",
    "\n",
    "nn_model.type(torch.cuda.FloatTensor)\n",
    "nn_model.to(device)\n",
    "\n",
    "loss = nn.CrossEntropyLoss().type(torch.cuda.FloatTensor)\n",
    "optimizer = optim.SGD(nn_model.parameters(), lr=1e-1, weight_decay=1e-4)"
   ]
  },
  {
   "cell_type": "markdown",
   "metadata": {},
   "source": [
    "Восстановите функцию `compute_accuracy` из прошлого задания.  \n",
    "Единственное отличие в новом - она должна передать данные на GPU прежде чем прогонять через модель. Сделайте это так же, как это делает функция `train_model`"
   ]
  },
  {
   "cell_type": "code",
   "execution_count": 44,
   "metadata": {
    "colab": {},
    "colab_type": "code",
    "id": "2ek3KVQK7hJ6"
   },
   "outputs": [],
   "source": [
    "def train_model(model, train_loader, val_loader, loss, optimizer, num_epochs, scheduler = None):    \n",
    "    loss_history = []\n",
    "    train_history = []\n",
    "    val_history = []\n",
    "    for epoch in range(num_epochs):\n",
    "        model.train() # Enter train mode\n",
    "        \n",
    "        loss_accum = 0\n",
    "        correct_samples = 0\n",
    "        total_samples = 0\n",
    "\n",
    "        if scheduler is not None:\n",
    "            scheduler.step()\n",
    "\n",
    "        for i_step, (x, y) in enumerate(train_loader):\n",
    "          \n",
    "            x_gpu = x.to(device)\n",
    "            y_gpu = y.to(device)\n",
    "            prediction = model(x_gpu)    \n",
    "            loss_value = loss(prediction, y_gpu)\n",
    "            optimizer.zero_grad()\n",
    "            loss_value.backward()\n",
    "            optimizer.step()\n",
    "            \n",
    "            _, indices = torch.max(prediction, 1)\n",
    "            correct_samples += torch.sum(indices == y_gpu)\n",
    "            total_samples += y.shape[0]\n",
    "            \n",
    "            loss_accum += loss_value\n",
    "\n",
    "        ave_loss = loss_accum / i_step\n",
    "        train_accuracy = float(correct_samples) / total_samples\n",
    "        val_accuracy = compute_accuracy(model, val_loader)\n",
    "        \n",
    "        loss_history.append(float(ave_loss))\n",
    "        train_history.append(train_accuracy)\n",
    "        val_history.append(val_accuracy)\n",
    "        \n",
    "        print(\"Average loss: %f, Train accuracy: %f, Val accuracy: %f\" % (ave_loss, train_accuracy, val_accuracy))\n",
    "        \n",
    "    return loss_history, train_history, val_history\n",
    "        \n",
    "def compute_accuracy(model, loader):\n",
    "    \"\"\"\n",
    "    Computes accuracy on the dataset wrapped in a loader\n",
    "    \n",
    "    Returns: accuracy as a float value between 0 and 1\n",
    "    \"\"\"\n",
    "    model.eval() # Evaluation mode\n",
    "    # TODO: Copy implementation from previous assignment\n",
    "    # Don't forget to move the data to device before running it through the model!\n",
    "    total_samples = 0\n",
    "    correct_samples = torch.zeros((len(loader))).to(device)\n",
    "    with torch.no_grad():\n",
    "        for i_step, (x, y) in enumerate(loader):\n",
    "            gpu_x = x.to(device)\n",
    "            gpu_y = y.to(device)\n",
    "            total_samples += y.shape[0]\n",
    "            prediction = torch.argmax(model(gpu_x), 1)\n",
    "            correct_samples[i_step] = torch.sum(prediction == gpu_y)\n",
    "        \n",
    "    accuracy = float(torch.sum(correct_samples).to('cpu')) / total_samples\n",
    "    return accuracy\n"
   ]
  },
  {
   "cell_type": "code",
   "execution_count": 45,
   "metadata": {},
   "outputs": [
    {
     "output_type": "stream",
     "name": "stdout",
     "text": [
      "Average loss: 1.387748, Train accuracy: 0.535406, Val accuracy: 0.732237\n",
      "Average loss: 0.691282, Train accuracy: 0.790789, Val accuracy: 0.796942\n",
      "Average loss: 0.587837, Train accuracy: 0.825257, Val accuracy: 0.825609\n",
      "Average loss: 0.538091, Train accuracy: 0.840631, Val accuracy: 0.829022\n",
      "Average loss: 0.507418, Train accuracy: 0.850049, Val accuracy: 0.823493\n"
     ]
    }
   ],
   "source": [
    "loss_history, train_history, val_history = train_model(nn_model, train_loader, val_loader, loss, optimizer, 5)"
   ]
  },
  {
   "cell_type": "markdown",
   "metadata": {
    "colab_type": "text",
    "id": "6a-3a1ZFGEw_"
   },
   "source": [
    "# Аугментация данных (Data augmentation)\n",
    "\n",
    "В работе с изображениями одним из особенно важных методов является аугментация данных - то есть, генерация дополнительных данных для тренировки на основе изначальных.   \n",
    "Таким образом, мы получаем возможность \"увеличить\" набор данных для тренировки, что ведет к лучшей работе сети.\n",
    "Важно, чтобы аугментированные данные были похожи на те, которые могут встретиться в реальной жизни, иначе польза от аугментаций уменьшается и может ухудшить работу сети.\n",
    "\n",
    "С PyTorch идут несколько таких алгоритмов, называемых `transforms`. Более подробно про них можно прочитать тут -\n",
    "https://pytorch.org/tutorials/beginner/data_loading_tutorial.html#transforms\n",
    "\n",
    "Ниже мы используем следующие алгоритмы генерации:\n",
    "- ColorJitter - случайное изменение цвета\n",
    "- RandomHorizontalFlip - горизонтальное отражение с вероятностью 50%\n",
    "- RandomVerticalFlip - вертикальное отражение с вероятностью 50%\n",
    "- RandomRotation - случайный поворот"
   ]
  },
  {
   "cell_type": "code",
   "execution_count": 46,
   "metadata": {
    "colab": {},
    "colab_type": "code",
    "id": "jCWMUWmr7t5g"
   },
   "outputs": [],
   "source": [
    "tfs = transforms.Compose([\n",
    "    transforms.ColorJitter(hue=.50, saturation=.50),\n",
    "    transforms.RandomHorizontalFlip(),\n",
    "    transforms.RandomVerticalFlip(),\n",
    "    transforms.RandomRotation(50, resample=PIL.Image.BILINEAR),\n",
    "    transforms.ToTensor(),\n",
    "    transforms.Normalize(mean=[0.43,0.44,0.47],\n",
    "                       std=[0.20,0.20,0.20])                           \n",
    "])\n",
    "\n",
    "# Create augmented train dataset\n",
    "data_aug_train = dset.SVHN('./data', \n",
    "                       transform=tfs\n",
    "                      )\n",
    "\n",
    "train_aug_loader = torch.utils.data.DataLoader(data_aug_train, batch_size=batch_size, \n",
    "                                           sampler=train_sampler)"
   ]
  },
  {
   "cell_type": "markdown",
   "metadata": {},
   "source": [
    "Визуализируем результаты агментации (вообще, смотреть на сгенерированные данные всегда очень полезно)."
   ]
  },
  {
   "cell_type": "code",
   "execution_count": 47,
   "metadata": {
    "colab": {},
    "colab_type": "code",
    "id": "YlJJEro1KZ45"
   },
   "outputs": [
    {
     "output_type": "display_data",
     "data": {
      "text/plain": "<Figure size 2160x216 with 10 Axes>",
      "image/svg+xml": "<?xml version=\"1.0\" encoding=\"utf-8\" standalone=\"no\"?>\n<!DOCTYPE svg PUBLIC \"-//W3C//DTD SVG 1.1//EN\"\n  \"http://www.w3.org/Graphics/SVG/1.1/DTD/svg11.dtd\">\n<!-- Created with matplotlib (https://matplotlib.org/) -->\n<svg height=\"156.264407pt\" version=\"1.1\" viewBox=\"0 0 1688.4 156.264407\" width=\"1688.4pt\" xmlns=\"http://www.w3.org/2000/svg\" xmlns:xlink=\"http://www.w3.org/1999/xlink\">\n <metadata>\n  <rdf:RDF xmlns:cc=\"http://creativecommons.org/ns#\" xmlns:dc=\"http://purl.org/dc/elements/1.1/\" xmlns:rdf=\"http://www.w3.org/1999/02/22-rdf-syntax-ns#\">\n   <cc:Work>\n    <dc:type rdf:resource=\"http://purl.org/dc/dcmitype/StillImage\"/>\n    <dc:date>2020-10-13T01:48:39.006359</dc:date>\n    <dc:format>image/svg+xml</dc:format>\n    <dc:creator>\n     <cc:Agent>\n      <dc:title>Matplotlib v3.3.1, https://matplotlib.org/</dc:title>\n     </cc:Agent>\n    </dc:creator>\n   </cc:Work>\n  </rdf:RDF>\n </metadata>\n <defs>\n  <style type=\"text/css\">*{stroke-linecap:butt;stroke-linejoin:round;}</style>\n </defs>\n <g id=\"figure_1\">\n  <g id=\"patch_1\">\n   <path d=\"M 0 156.264407 \nL 1688.4 156.264407 \nL 1688.4 0 \nL 0 0 \nz\n\" style=\"fill:none;\"/>\n  </g>\n  <g id=\"axes_1\">\n   <g clip-path=\"url(#p2f5475ec14)\">\n    <image height=\"142\" id=\"image9096b7469c\" transform=\"scale(1 -1)translate(0 -142)\" width=\"142\" x=\"7.2\" xlink:href=\"data:image/png;base64,\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\" y=\"-7.064407\"/>\n   </g>\n  </g>\n  <g id=\"axes_2\">\n   <g clip-path=\"url(#pe12b309700)\">\n    <image height=\"142\" id=\"image0f3750a113\" transform=\"scale(1 -1)translate(0 -142)\" width=\"142\" x=\"177.437288\" xlink:href=\"data:image/png;base64,\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\" y=\"-7.064407\"/>\n   </g>\n  </g>\n  <g id=\"axes_3\">\n   <g clip-path=\"url(#pe254007758)\">\n    <image height=\"142\" id=\"imagea04c31dd6d\" transform=\"scale(1 -1)translate(0 -142)\" width=\"142\" x=\"347.674576\" xlink:href=\"data:image/png;base64,\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\" y=\"-7.064407\"/>\n   </g>\n  </g>\n  <g id=\"axes_4\">\n   <g clip-path=\"url(#pdbd9e770e5)\">\n    <image height=\"142\" id=\"image2a731cd56b\" transform=\"scale(1 -1)translate(0 -142)\" width=\"142\" x=\"517.911864\" xlink:href=\"data:image/png;base64,\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\" y=\"-7.064407\"/>\n   </g>\n  </g>\n  <g id=\"axes_5\">\n   <g clip-path=\"url(#p85dd386867)\">\n    <image height=\"142\" id=\"image8083280395\" transform=\"scale(1 -1)translate(0 -142)\" width=\"142\" x=\"688.149153\" xlink:href=\"data:image/png;base64,\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\" y=\"-7.064407\"/>\n   </g>\n  </g>\n  <g id=\"axes_6\">\n   <g clip-path=\"url(#pe9eb8b2ab3)\">\n    <image height=\"142\" id=\"image3e2dd4d377\" transform=\"scale(1 -1)translate(0 -142)\" width=\"142\" x=\"858.386441\" xlink:href=\"data:image/png;base64,\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\" y=\"-7.064407\"/>\n   </g>\n  </g>\n  <g id=\"axes_7\">\n   <g clip-path=\"url(#pf0dc7ec4cd)\">\n    <image height=\"142\" id=\"image39561da494\" transform=\"scale(1 -1)translate(0 -142)\" width=\"142\" x=\"1028.623729\" xlink:href=\"data:image/png;base64,\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\" y=\"-7.064407\"/>\n   </g>\n  </g>\n  <g id=\"axes_8\">\n   <g clip-path=\"url(#pe205c10757)\">\n    <image height=\"142\" id=\"image503a3072ed\" transform=\"scale(1 -1)translate(0 -142)\" width=\"142\" x=\"1198.861017\" xlink:href=\"data:image/png;base64,\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\" y=\"-7.064407\"/>\n   </g>\n  </g>\n  <g id=\"axes_9\">\n   <g clip-path=\"url(#p45d88a2d29)\">\n    <image height=\"142\" id=\"image2ecbb75ef3\" transform=\"scale(1 -1)translate(0 -142)\" width=\"142\" x=\"1369.098305\" xlink:href=\"data:image/png;base64,\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\" y=\"-7.064407\"/>\n   </g>\n  </g>\n  <g id=\"axes_10\">\n   <g clip-path=\"url(#p311f9bf88c)\">\n    <image height=\"142\" id=\"imaged5b9c91f0d\" transform=\"scale(1 -1)translate(0 -142)\" width=\"142\" x=\"1539.335593\" xlink:href=\"data:image/png;base64,\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\" y=\"-7.064407\"/>\n   </g>\n  </g>\n </g>\n <defs>\n  <clipPath id=\"p2f5475ec14\">\n   <rect height=\"141.864407\" width=\"141.864407\" x=\"7.2\" y=\"7.2\"/>\n  </clipPath>\n  <clipPath id=\"pe12b309700\">\n   <rect height=\"141.864407\" width=\"141.864407\" x=\"177.437288\" y=\"7.2\"/>\n  </clipPath>\n  <clipPath id=\"pe254007758\">\n   <rect height=\"141.864407\" width=\"141.864407\" x=\"347.674576\" y=\"7.2\"/>\n  </clipPath>\n  <clipPath id=\"pdbd9e770e5\">\n   <rect height=\"141.864407\" width=\"141.864407\" x=\"517.911864\" y=\"7.2\"/>\n  </clipPath>\n  <clipPath id=\"p85dd386867\">\n   <rect height=\"141.864407\" width=\"141.864407\" x=\"688.149153\" y=\"7.2\"/>\n  </clipPath>\n  <clipPath id=\"pe9eb8b2ab3\">\n   <rect height=\"141.864407\" width=\"141.864407\" x=\"858.386441\" y=\"7.2\"/>\n  </clipPath>\n  <clipPath id=\"pf0dc7ec4cd\">\n   <rect height=\"141.864407\" width=\"141.864407\" x=\"1028.623729\" y=\"7.2\"/>\n  </clipPath>\n  <clipPath id=\"pe205c10757\">\n   <rect height=\"141.864407\" width=\"141.864407\" x=\"1198.861017\" y=\"7.2\"/>\n  </clipPath>\n  <clipPath id=\"p45d88a2d29\">\n   <rect height=\"141.864407\" width=\"141.864407\" x=\"1369.098305\" y=\"7.2\"/>\n  </clipPath>\n  <clipPath id=\"p311f9bf88c\">\n   <rect height=\"141.864407\" width=\"141.864407\" x=\"1539.335593\" y=\"7.2\"/>\n  </clipPath>\n </defs>\n</svg>\n",
      "image/png": "[encoded data removed]"
     },
     "metadata": {
      "needs_background": "light"
     }
    }
   ],
   "source": [
    "# TODO: Visualize some augmented images!\n",
    "# hint: you can create new datasets and loaders to accomplish this\n",
    "\n",
    "# Based on the visualizations, should we keep all the augmentations?\n",
    "\n",
    "tfs = transforms.Compose([\n",
    "    transforms.ColorJitter(hue=.20, saturation=.20),\n",
    "    transforms.RandomHorizontalFlip(),\n",
    "    transforms.RandomVerticalFlip(),\n",
    "    transforms.RandomRotation(10, resample=PIL.Image.BILINEAR),\n",
    "])\n",
    "\n",
    "data_aug_vis = dset.SVHN('./data', \n",
    "                       transform=tfs\n",
    "                      )\n",
    "\n",
    "plt.figure(figsize=(30, 3))\n",
    "\n",
    "for i, (x, y) in enumerate(data_aug_vis):\n",
    "    if i == 10:\n",
    "        break\n",
    "    plt.subplot(1, 10, i+1)\n",
    "    plt.grid(False)\n",
    "    plt.imshow(x)\n",
    "    plt.axis('off')"
   ]
  },
  {
   "cell_type": "markdown",
   "metadata": {
    "colab_type": "text",
    "id": "o2LrmsYHoguB"
   },
   "source": [
    "Все ли агментации одинаково полезны на этом наборе данных? Могут ли быть среди них те, которые собьют модель с толку?\n",
    "\n",
    "Выберите из них только корректные"
   ]
  },
  {
   "cell_type": "code",
   "execution_count": 48,
   "metadata": {
    "colab": {},
    "colab_type": "code",
    "id": "evro9ksXGs9u"
   },
   "outputs": [],
   "source": [
    "# TODO: \n",
    "tfs = transforms.Compose([\n",
    "    # TODO: Add good augmentations\n",
    "    transforms.ColorJitter(hue=.20, saturation=.20),\n",
    "    transforms.RandomRotation(10, resample=PIL.Image.BILINEAR),\n",
    "    transforms.ToTensor(),\n",
    "    transforms.Normalize(mean=[0.43,0.44,0.47],\n",
    "                       std=[0.20,0.20,0.20])                           \n",
    "])\n",
    "\n",
    "# TODO create new instances of loaders with the augmentations you chose\n",
    "data_aug_train = dset.SVHN('./data', transform=tfs)\n",
    "train_aug_loader = torch.utils.data.DataLoader(data_aug_train, batch_size=batch_size, sampler=train_sampler)"
   ]
  },
  {
   "cell_type": "code",
   "execution_count": 49,
   "metadata": {
    "colab": {},
    "colab_type": "code",
    "id": "PeO6Zw0DHqPR"
   },
   "outputs": [
    {
     "output_type": "stream",
     "name": "stdout",
     "text": [
      "Average loss: 0.601303, Train accuracy: 0.818688, Val accuracy: 0.840557\n",
      "Average loss: 0.551439, Train accuracy: 0.831178, Val accuracy: 0.827930\n",
      "Average loss: 0.525592, Train accuracy: 0.842815, Val accuracy: 0.822196\n",
      "Average loss: 0.515643, Train accuracy: 0.845698, Val accuracy: 0.858303\n",
      "Average loss: 0.503220, Train accuracy: 0.847763, Val accuracy: 0.826428\n"
     ]
    }
   ],
   "source": [
    "# Finally, let's train with augmentations!\n",
    "\n",
    "# Note we shouldn't use augmentations on validation\n",
    "\n",
    "loss_history, train_history, val_history = train_model(nn_model, train_aug_loader, val_loader, loss, optimizer, 5)"
   ]
  },
  {
   "cell_type": "markdown",
   "metadata": {
    "colab_type": "text",
    "id": "r0bcioK6JBDK"
   },
   "source": [
    "# LeNet\n",
    "Попробуем имплементировать классическую архитектуру сверточной нейронной сети, предложенную Яном ЛеКуном в 1998 году. В свое время она достигла впечатляющих результатов на MNIST, посмотрим как она справится с SVHN?\n",
    "Она описана в статье [\"Gradient Based Learning Applied to Document Recognition\"](http://yann.lecun.com/exdb/publis/pdf/lecun-01a.pdf), попробуйте прочитать ключевые части и имплементировать предложенную архитетуру на PyTorch.\n",
    "\n",
    "Реализовывать слои и функцию ошибки LeNet, которых нет в PyTorch, **не нужно** - просто возьмите их размеры и переведите в уже известные нам Convolutional, Pooling и Fully Connected layers.\n",
    "\n",
    "Если в статье не очень понятно, можно просто погуглить LeNet и разобраться в деталях :)"
   ]
  },
  {
   "cell_type": "code",
   "execution_count": 50,
   "metadata": {
    "colab": {},
    "colab_type": "code",
    "id": "ieEzZUglJAUB"
   },
   "outputs": [],
   "source": [
    "# TODO: Implement LeNet-like architecture for SVHN task\n",
    "lenet_model = nn.Sequential(\n",
    "    nn.Conv2d(3, 6, 5), \n",
    "    nn.MaxPool2d(2, stride=2),\n",
    "    nn.Conv2d(6, 16, 5),\n",
    "    nn.AvgPool2d(2, stride=2),\n",
    "    Flattener(),\n",
    "    nn.Linear(400, 120),\n",
    "    nn.Sigmoid(),\n",
    "    nn.Linear(120, 84),\n",
    "    nn.Sigmoid(),\n",
    "    nn.Linear(84, 10)\n",
    ")\n",
    "\n",
    "lenet_model.type(torch.cuda.FloatTensor)\n",
    "lenet_model.to(device)\n",
    "\n",
    "loss = nn.CrossEntropyLoss().type(torch.cuda.FloatTensor)\n",
    "optimizer = optim.SGD(lenet_model.parameters(), lr=1e-1, weight_decay=1e-4)"
   ]
  },
  {
   "cell_type": "code",
   "execution_count": 51,
   "metadata": {
    "colab": {},
    "colab_type": "code",
    "id": "WMmaPfdeKk9H"
   },
   "outputs": [
    {
     "output_type": "stream",
     "name": "stdout",
     "text": [
      "Average loss: 2.247757, Train accuracy: 0.183770, Val accuracy: 0.192001\n",
      "Average loss: 2.245094, Train accuracy: 0.185715, Val accuracy: 0.192001\n",
      "Average loss: 2.240948, Train accuracy: 0.187336, Val accuracy: 0.198280\n",
      "Average loss: 2.136828, Train accuracy: 0.240794, Val accuracy: 0.398062\n",
      "Average loss: 1.515131, Train accuracy: 0.505136, Val accuracy: 0.627807\n",
      "Average loss: 1.105161, Train accuracy: 0.649746, Val accuracy: 0.729984\n",
      "Average loss: 0.873984, Train accuracy: 0.730813, Val accuracy: 0.777558\n",
      "Average loss: 0.749833, Train accuracy: 0.773675, Val accuracy: 0.794280\n",
      "Average loss: 0.680763, Train accuracy: 0.794833, Val accuracy: 0.800560\n",
      "Average loss: 0.627806, Train accuracy: 0.812067, Val accuracy: 0.825814\n"
     ]
    }
   ],
   "source": [
    "# Let's train it!\n",
    "loss_history, train_history, val_history = train_model(lenet_model, train_aug_loader, val_loader, loss, optimizer, 10)"
   ]
  },
  {
   "cell_type": "markdown",
   "metadata": {
    "colab_type": "text",
    "id": "u_O9qiYySvuj"
   },
   "source": [
    "# Подбор гиперпараметров"
   ]
  },
  {
   "cell_type": "code",
   "execution_count": 52,
   "metadata": {
    "colab": {},
    "colab_type": "code",
    "id": "i6mhfdQ9K-N3"
   },
   "outputs": [
    {
     "output_type": "stream",
     "name": "stdout",
     "text": [
      "0 [0, 4]\n",
      "Average loss: 2.069063, Train accuracy: 0.259820, Val accuracy: 0.419152\n",
      "Average loss: 1.502783, Train accuracy: 0.495120, Val accuracy: 0.558392\n",
      "Average loss: 1.221163, Train accuracy: 0.613930, Val accuracy: 0.666166\n",
      "Average loss: 1.058600, Train accuracy: 0.676194, Val accuracy: 0.708894\n",
      "Average loss: 0.915752, Train accuracy: 0.724533, Val accuracy: 0.751758\n",
      "Average loss: 0.821720, Train accuracy: 0.753660, Val accuracy: 0.781107\n",
      "Average loss: 0.738331, Train accuracy: 0.780893, Val accuracy: 0.801447\n",
      "Average loss: 0.677930, Train accuracy: 0.801727, Val accuracy: 0.825268\n",
      "Average loss: 0.631485, Train accuracy: 0.815360, Val accuracy: 0.822128\n",
      "Average loss: 0.599884, Train accuracy: 0.826110, Val accuracy: 0.842536\n",
      "Hyperparams(learning_rate=1.0, anneal_epochs=1, reg=0.001)\n",
      "RunResult(model=Sequential(\n",
      "  (0): Conv2d(3, 6, kernel_size=(5, 5), stride=(1, 1))\n",
      "  (1): MaxPool2d(kernel_size=2, stride=2, padding=0, dilation=1, ceil_mode=False)\n",
      "  (2): Conv2d(6, 16, kernel_size=(5, 5), stride=(1, 1))\n",
      "  (3): AvgPool2d(kernel_size=2, stride=2, padding=0)\n",
      "  (4): Flattener()\n",
      "  (5): Linear(in_features=400, out_features=120, bias=True)\n",
      "  (6): Sigmoid()\n",
      "  (7): Linear(in_features=120, out_features=84, bias=True)\n",
      "  (8): Sigmoid()\n",
      "  (9): Linear(in_features=84, out_features=10, bias=True)\n",
      "), train_history=[2.0690627098083496, 1.5027825832366943, 1.2211629152297974, 1.058599591255188, 0.9157520532608032, 0.8217199444770813, 0.7383312582969666, 0.6779300570487976, 0.6314845681190491, 0.5998835563659668], val_history=[0.2598198136709552, 0.4951199535883698, 0.6139303143022898, 0.6761935637989285, 0.7245333242330136, 0.7536600348087227, 0.7808927413575402, 0.8017267856533461, 0.8153602020270962, 0.8261099546121558], final_val_accuracy=0.8425363456419357)\n",
      "Average loss: 2.353060, Train accuracy: 0.116234, Val accuracy: 0.115009\n",
      "Average loss: 2.313929, Train accuracy: 0.116234, Val accuracy: 0.115009\n",
      "Average loss: 2.292258, Train accuracy: 0.140941, Val accuracy: 0.192001\n",
      "Average loss: 2.279498, Train accuracy: 0.188513, Val accuracy: 0.192001\n",
      "Average loss: 2.271590, Train accuracy: 0.188513, Val accuracy: 0.192001\n",
      "Average loss: 2.266426, Train accuracy: 0.188513, Val accuracy: 0.192001\n",
      "Average loss: 2.262922, Train accuracy: 0.188513, Val accuracy: 0.192001\n",
      "Average loss: 2.260454, Train accuracy: 0.188513, Val accuracy: 0.192001\n",
      "Average loss: 2.258675, Train accuracy: 0.188513, Val accuracy: 0.192001\n",
      "Average loss: 2.257375, Train accuracy: 0.188513, Val accuracy: 0.192001\n",
      "Hyperparams(learning_rate=0.0001, anneal_epochs=1, reg=0.001)\n",
      "RunResult(model=Sequential(\n",
      "  (0): Conv2d(3, 6, kernel_size=(5, 5), stride=(1, 1))\n",
      "  (1): MaxPool2d(kernel_size=2, stride=2, padding=0, dilation=1, ceil_mode=False)\n",
      "  (2): Conv2d(6, 16, kernel_size=(5, 5), stride=(1, 1))\n",
      "  (3): AvgPool2d(kernel_size=2, stride=2, padding=0)\n",
      "  (4): Flattener()\n",
      "  (5): Linear(in_features=400, out_features=120, bias=True)\n",
      "  (6): Sigmoid()\n",
      "  (7): Linear(in_features=120, out_features=84, bias=True)\n",
      "  (8): Sigmoid()\n",
      "  (9): Linear(in_features=84, out_features=10, bias=True)\n",
      "), train_history=[2.353059768676758, 2.3139286041259766, 2.292257785797119, 2.2794978618621826, 2.271590232849121, 2.2664260864257812, 2.2629215717315674, 2.260453939437866, 2.2586750984191895, 2.2573745250701904], val_history=[0.11623383271337406, 0.11623383271337406, 0.14094120055966966, 0.1885131215233935, 0.1885131215233935, 0.1885131215233935, 0.1885131215233935, 0.1885131215233935, 0.1885131215233935, 0.1885131215233935], final_val_accuracy=0.1920005460378131)\n",
      "0 [0, 2]\n",
      "Hyperparams(learning_rate=1.0, anneal_epochs=1, reg=0.001)\n",
      "RunResult(model=Sequential(\n",
      "  (0): Conv2d(3, 6, kernel_size=(5, 5), stride=(1, 1))\n",
      "  (1): MaxPool2d(kernel_size=2, stride=2, padding=0, dilation=1, ceil_mode=False)\n",
      "  (2): Conv2d(6, 16, kernel_size=(5, 5), stride=(1, 1))\n",
      "  (3): AvgPool2d(kernel_size=2, stride=2, padding=0)\n",
      "  (4): Flattener()\n",
      "  (5): Linear(in_features=400, out_features=120, bias=True)\n",
      "  (6): Sigmoid()\n",
      "  (7): Linear(in_features=120, out_features=84, bias=True)\n",
      "  (8): Sigmoid()\n",
      "  (9): Linear(in_features=84, out_features=10, bias=True)\n",
      "), train_history=[2.0690627098083496, 1.5027825832366943, 1.2211629152297974, 1.058599591255188, 0.9157520532608032, 0.8217199444770813, 0.7383312582969666, 0.6779300570487976, 0.6314845681190491, 0.5998835563659668], val_history=[0.2598198136709552, 0.4951199535883698, 0.6139303143022898, 0.6761935637989285, 0.7245333242330136, 0.7536600348087227, 0.7808927413575402, 0.8017267856533461, 0.8153602020270962, 0.8261099546121558], final_val_accuracy=0.8425363456419357)\n",
      "Average loss: 2.241440, Train accuracy: 0.188377, Val accuracy: 0.192001\n",
      "Average loss: 2.240251, Train accuracy: 0.188513, Val accuracy: 0.192001\n",
      "Average loss: 2.240048, Train accuracy: 0.188513, Val accuracy: 0.192001\n",
      "Average loss: 2.240032, Train accuracy: 0.188513, Val accuracy: 0.192001\n",
      "Average loss: 2.239866, Train accuracy: 0.188513, Val accuracy: 0.192001\n",
      "Average loss: 2.239793, Train accuracy: 0.188513, Val accuracy: 0.192001\n",
      "Average loss: 2.239703, Train accuracy: 0.188513, Val accuracy: 0.192001\n",
      "Average loss: 2.239647, Train accuracy: 0.188513, Val accuracy: 0.192001\n",
      "Average loss: 2.239639, Train accuracy: 0.188513, Val accuracy: 0.192001\n",
      "Average loss: 2.239566, Train accuracy: 0.188513, Val accuracy: 0.192001\n",
      "Hyperparams(learning_rate=0.01, anneal_epochs=1, reg=0.001)\n",
      "RunResult(model=Sequential(\n",
      "  (0): Conv2d(3, 6, kernel_size=(5, 5), stride=(1, 1))\n",
      "  (1): MaxPool2d(kernel_size=2, stride=2, padding=0, dilation=1, ceil_mode=False)\n",
      "  (2): Conv2d(6, 16, kernel_size=(5, 5), stride=(1, 1))\n",
      "  (3): AvgPool2d(kernel_size=2, stride=2, padding=0)\n",
      "  (4): Flattener()\n",
      "  (5): Linear(in_features=400, out_features=120, bias=True)\n",
      "  (6): Sigmoid()\n",
      "  (7): Linear(in_features=120, out_features=84, bias=True)\n",
      "  (8): Sigmoid()\n",
      "  (9): Linear(in_features=84, out_features=10, bias=True)\n",
      "), train_history=[2.2414400577545166, 2.240251064300537, 2.2400476932525635, 2.240032434463501, 2.239865779876709, 2.239792585372925, 2.2397029399871826, 2.2396466732025146, 2.2396388053894043, 2.2395663261413574], val_history=[0.1883766167286626, 0.1885131215233935, 0.1885131215233935, 0.1885131215233935, 0.1885131215233935, 0.1885131215233935, 0.1885131215233935, 0.1885131215233935, 0.1885131215233935, 0.1885131215233935], final_val_accuracy=0.1920005460378131)\n",
      "0 [0, 1]\n",
      "Hyperparams(learning_rate=1.0, anneal_epochs=1, reg=0.001)\n",
      "RunResult(model=Sequential(\n",
      "  (0): Conv2d(3, 6, kernel_size=(5, 5), stride=(1, 1))\n",
      "  (1): MaxPool2d(kernel_size=2, stride=2, padding=0, dilation=1, ceil_mode=False)\n",
      "  (2): Conv2d(6, 16, kernel_size=(5, 5), stride=(1, 1))\n",
      "  (3): AvgPool2d(kernel_size=2, stride=2, padding=0)\n",
      "  (4): Flattener()\n",
      "  (5): Linear(in_features=400, out_features=120, bias=True)\n",
      "  (6): Sigmoid()\n",
      "  (7): Linear(in_features=120, out_features=84, bias=True)\n",
      "  (8): Sigmoid()\n",
      "  (9): Linear(in_features=84, out_features=10, bias=True)\n",
      "), train_history=[2.0690627098083496, 1.5027825832366943, 1.2211629152297974, 1.058599591255188, 0.9157520532608032, 0.8217199444770813, 0.7383312582969666, 0.6779300570487976, 0.6314845681190491, 0.5998835563659668], val_history=[0.2598198136709552, 0.4951199535883698, 0.6139303143022898, 0.6761935637989285, 0.7245333242330136, 0.7536600348087227, 0.7808927413575402, 0.8017267856533461, 0.8153602020270962, 0.8261099546121558], final_val_accuracy=0.8425363456419357)\n",
      "Average loss: 2.248517, Train accuracy: 0.183906, Val accuracy: 0.192001\n",
      "Average loss: 2.244622, Train accuracy: 0.187063, Val accuracy: 0.192001\n",
      "Average loss: 2.242671, Train accuracy: 0.188001, Val accuracy: 0.145383\n",
      "Average loss: 2.241149, Train accuracy: 0.188206, Val accuracy: 0.192001\n",
      "Average loss: 2.239362, Train accuracy: 0.188291, Val accuracy: 0.192001\n",
      "Average loss: 2.236819, Train accuracy: 0.188496, Val accuracy: 0.192001\n",
      "Average loss: 2.228208, Train accuracy: 0.189144, Val accuracy: 0.200259\n",
      "Average loss: 2.188986, Train accuracy: 0.217810, Val accuracy: 0.258208\n",
      "Average loss: 2.093415, Train accuracy: 0.265365, Val accuracy: 0.287557\n",
      "Average loss: 1.949693, Train accuracy: 0.308535, Val accuracy: 0.336564\n",
      "Hyperparams(learning_rate=0.1, anneal_epochs=1, reg=0.001)\n",
      "RunResult(model=Sequential(\n",
      "  (0): Conv2d(3, 6, kernel_size=(5, 5), stride=(1, 1))\n",
      "  (1): MaxPool2d(kernel_size=2, stride=2, padding=0, dilation=1, ceil_mode=False)\n",
      "  (2): Conv2d(6, 16, kernel_size=(5, 5), stride=(1, 1))\n",
      "  (3): AvgPool2d(kernel_size=2, stride=2, padding=0)\n",
      "  (4): Flattener()\n",
      "  (5): Linear(in_features=400, out_features=120, bias=True)\n",
      "  (6): Sigmoid()\n",
      "  (7): Linear(in_features=120, out_features=84, bias=True)\n",
      "  (8): Sigmoid()\n",
      "  (9): Linear(in_features=84, out_features=10, bias=True)\n",
      "), train_history=[2.248516798019409, 2.2446224689483643, 2.242670774459839, 2.241149425506592, 2.2393624782562256, 2.236818552017212, 2.228208303451538, 2.188985824584961, 2.0934152603149414, 1.9496926069259644], val_history=[0.18390608470122513, 0.18706275807937753, 0.18800122854315257, 0.18820598573524894, 0.18829130123195578, 0.18849605842405215, 0.18914445619902398, 0.21781046309251612, 0.26536532095689863, 0.30853496229055044], final_val_accuracy=0.3365640570609515)\n",
      "1 [0, 5]\n",
      "Hyperparams(learning_rate=1.0, anneal_epochs=1, reg=0.001)\n",
      "RunResult(model=Sequential(\n",
      "  (0): Conv2d(3, 6, kernel_size=(5, 5), stride=(1, 1))\n",
      "  (1): MaxPool2d(kernel_size=2, stride=2, padding=0, dilation=1, ceil_mode=False)\n",
      "  (2): Conv2d(6, 16, kernel_size=(5, 5), stride=(1, 1))\n",
      "  (3): AvgPool2d(kernel_size=2, stride=2, padding=0)\n",
      "  (4): Flattener()\n",
      "  (5): Linear(in_features=400, out_features=120, bias=True)\n",
      "  (6): Sigmoid()\n",
      "  (7): Linear(in_features=120, out_features=84, bias=True)\n",
      "  (8): Sigmoid()\n",
      "  (9): Linear(in_features=84, out_features=10, bias=True)\n",
      "), train_history=[2.0690627098083496, 1.5027825832366943, 1.2211629152297974, 1.058599591255188, 0.9157520532608032, 0.8217199444770813, 0.7383312582969666, 0.6779300570487976, 0.6314845681190491, 0.5998835563659668], val_history=[0.2598198136709552, 0.4951199535883698, 0.6139303143022898, 0.6761935637989285, 0.7245333242330136, 0.7536600348087227, 0.7808927413575402, 0.8017267856533461, 0.8153602020270962, 0.8261099546121558], final_val_accuracy=0.8425363456419357)\n",
      "Average loss: 2.024836, Train accuracy: 0.275313, Val accuracy: 0.497713\n",
      "Average loss: 1.674692, Train accuracy: 0.434153, Val accuracy: 0.487407\n",
      "Average loss: 1.635612, Train accuracy: 0.452650, Val accuracy: 0.487885\n",
      "Average loss: 1.473047, Train accuracy: 0.517063, Val accuracy: 0.512456\n",
      "Average loss: 1.439257, Train accuracy: 0.528615, Val accuracy: 0.575183\n",
      "Average loss: 1.346364, Train accuracy: 0.562843, Val accuracy: 0.580165\n",
      "Average loss: 1.380407, Train accuracy: 0.555063, Val accuracy: 0.615453\n",
      "Average loss: 1.291760, Train accuracy: 0.587636, Val accuracy: 0.610061\n",
      "Average loss: 1.260275, Train accuracy: 0.598181, Val accuracy: 0.599345\n",
      "Average loss: 1.238370, Train accuracy: 0.608112, Val accuracy: 0.644052\n",
      "Hyperparams(learning_rate=1.0, anneal_epochs=50, reg=0.001)\n",
      "RunResult(model=Sequential(\n",
      "  (0): Conv2d(3, 6, kernel_size=(5, 5), stride=(1, 1))\n",
      "  (1): MaxPool2d(kernel_size=2, stride=2, padding=0, dilation=1, ceil_mode=False)\n",
      "  (2): Conv2d(6, 16, kernel_size=(5, 5), stride=(1, 1))\n",
      "  (3): AvgPool2d(kernel_size=2, stride=2, padding=0)\n",
      "  (4): Flattener()\n",
      "  (5): Linear(in_features=400, out_features=120, bias=True)\n",
      "  (6): Sigmoid()\n",
      "  (7): Linear(in_features=120, out_features=84, bias=True)\n",
      "  (8): Sigmoid()\n",
      "  (9): Linear(in_features=84, out_features=10, bias=True)\n",
      "), train_history=[2.0248355865478516, 1.674691915512085, 1.6356117725372314, 1.473047137260437, 1.439257025718689, 1.346364140510559, 1.380407452583313, 1.2917598485946655, 1.260274887084961, 1.2383700609207153], val_history=[0.275313107872914, 0.43415349964167493, 0.4526498993277139, 0.5170630993413644, 0.528614817595468, 0.562843394874245, 0.5550626215745829, 0.5876360782172474, 0.5981810736102106, 0.6081117974268846], final_val_accuracy=0.6440516005733397)\n",
      "1 [0, 2]\n",
      "Hyperparams(learning_rate=1.0, anneal_epochs=1, reg=0.001)\n",
      "RunResult(model=Sequential(\n",
      "  (0): Conv2d(3, 6, kernel_size=(5, 5), stride=(1, 1))\n",
      "  (1): MaxPool2d(kernel_size=2, stride=2, padding=0, dilation=1, ceil_mode=False)\n",
      "  (2): Conv2d(6, 16, kernel_size=(5, 5), stride=(1, 1))\n",
      "  (3): AvgPool2d(kernel_size=2, stride=2, padding=0)\n",
      "  (4): Flattener()\n",
      "  (5): Linear(in_features=400, out_features=120, bias=True)\n",
      "  (6): Sigmoid()\n",
      "  (7): Linear(in_features=120, out_features=84, bias=True)\n",
      "  (8): Sigmoid()\n",
      "  (9): Linear(in_features=84, out_features=10, bias=True)\n",
      "), train_history=[2.0690627098083496, 1.5027825832366943, 1.2211629152297974, 1.058599591255188, 0.9157520532608032, 0.8217199444770813, 0.7383312582969666, 0.6779300570487976, 0.6314845681190491, 0.5998835563659668], val_history=[0.2598198136709552, 0.4951199535883698, 0.6139303143022898, 0.6761935637989285, 0.7245333242330136, 0.7536600348087227, 0.7808927413575402, 0.8017267856533461, 0.8153602020270962, 0.8261099546121558], final_val_accuracy=0.8425363456419357)\n",
      "Average loss: 2.211082, Train accuracy: 0.190117, Val accuracy: 0.251450\n",
      "Average loss: 1.660612, Train accuracy: 0.437703, Val accuracy: 0.557914\n",
      "Average loss: 1.291529, Train accuracy: 0.589240, Val accuracy: 0.647123\n",
      "Average loss: 1.221902, Train accuracy: 0.616319, Val accuracy: 0.620572\n",
      "Average loss: 1.248171, Train accuracy: 0.606542, Val accuracy: 0.576684\n",
      "Average loss: 1.309316, Train accuracy: 0.587039, Val accuracy: 0.629377\n",
      "Average loss: 1.347683, Train accuracy: 0.567570, Val accuracy: 0.612723\n",
      "Average loss: 1.381175, Train accuracy: 0.556684, Val accuracy: 0.570336\n",
      "Average loss: 1.347678, Train accuracy: 0.567604, Val accuracy: 0.466589\n",
      "Average loss: 1.335252, Train accuracy: 0.572211, Val accuracy: 0.500512\n",
      "Hyperparams(learning_rate=1.0, anneal_epochs=10, reg=0.001)\n",
      "RunResult(model=Sequential(\n",
      "  (0): Conv2d(3, 6, kernel_size=(5, 5), stride=(1, 1))\n",
      "  (1): MaxPool2d(kernel_size=2, stride=2, padding=0, dilation=1, ceil_mode=False)\n",
      "  (2): Conv2d(6, 16, kernel_size=(5, 5), stride=(1, 1))\n",
      "  (3): AvgPool2d(kernel_size=2, stride=2, padding=0)\n",
      "  (4): Flattener()\n",
      "  (5): Linear(in_features=400, out_features=120, bias=True)\n",
      "  (6): Sigmoid()\n",
      "  (7): Linear(in_features=120, out_features=84, bias=True)\n",
      "  (8): Sigmoid()\n",
      "  (9): Linear(in_features=84, out_features=10, bias=True)\n",
      "), train_history=[2.2110824584960938, 1.6606123447418213, 1.2915288209915161, 1.2219020128250122, 1.2481714487075806, 1.3093159198760986, 1.347683072090149, 1.3811750411987305, 1.347678303718567, 1.3352519273757935], val_history=[0.19011705286148176, 0.4377026243046787, 0.5892400095553356, 0.6163191482100808, 0.6065419922874791, 0.5870388697402996, 0.5675698733918029, 0.5566836160120124, 0.5676039995904856, 0.572211036412654], final_val_accuracy=0.5005119104497987)\n",
      "1 [0, 1]\n",
      "Hyperparams(learning_rate=1.0, anneal_epochs=1, reg=0.001)\n",
      "RunResult(model=Sequential(\n",
      "  (0): Conv2d(3, 6, kernel_size=(5, 5), stride=(1, 1))\n",
      "  (1): MaxPool2d(kernel_size=2, stride=2, padding=0, dilation=1, ceil_mode=False)\n",
      "  (2): Conv2d(6, 16, kernel_size=(5, 5), stride=(1, 1))\n",
      "  (3): AvgPool2d(kernel_size=2, stride=2, padding=0)\n",
      "  (4): Flattener()\n",
      "  (5): Linear(in_features=400, out_features=120, bias=True)\n",
      "  (6): Sigmoid()\n",
      "  (7): Linear(in_features=120, out_features=84, bias=True)\n",
      "  (8): Sigmoid()\n",
      "  (9): Linear(in_features=84, out_features=10, bias=True)\n",
      "), train_history=[2.0690627098083496, 1.5027825832366943, 1.2211629152297974, 1.058599591255188, 0.9157520532608032, 0.8217199444770813, 0.7383312582969666, 0.6779300570487976, 0.6314845681190491, 0.5998835563659668], val_history=[0.2598198136709552, 0.4951199535883698, 0.6139303143022898, 0.6761935637989285, 0.7245333242330136, 0.7536600348087227, 0.7808927413575402, 0.8017267856533461, 0.8153602020270962, 0.8261099546121558], final_val_accuracy=0.8425363456419357)\n",
      "Average loss: 2.180727, Train accuracy: 0.211258, Val accuracy: 0.339226\n",
      "Average loss: 1.788047, Train accuracy: 0.377999, Val accuracy: 0.485905\n",
      "Average loss: 1.541155, Train accuracy: 0.490308, Val accuracy: 0.583987\n",
      "Average loss: 1.376496, Train accuracy: 0.560693, Val accuracy: 0.613883\n",
      "Average loss: 1.311610, Train accuracy: 0.581954, Val accuracy: 0.627329\n",
      "Average loss: 1.201513, Train accuracy: 0.627257, Val accuracy: 0.668077\n",
      "Average loss: 1.134280, Train accuracy: 0.650394, Val accuracy: 0.664255\n",
      "Average loss: 1.076422, Train accuracy: 0.669437, Val accuracy: 0.709508\n",
      "Average loss: 1.023305, Train accuracy: 0.689690, Val accuracy: 0.722545\n",
      "Average loss: 0.989803, Train accuracy: 0.699741, Val accuracy: 0.727049\n",
      "Hyperparams(learning_rate=1.0, anneal_epochs=5, reg=0.001)\n",
      "RunResult(model=Sequential(\n",
      "  (0): Conv2d(3, 6, kernel_size=(5, 5), stride=(1, 1))\n",
      "  (1): MaxPool2d(kernel_size=2, stride=2, padding=0, dilation=1, ceil_mode=False)\n",
      "  (2): Conv2d(6, 16, kernel_size=(5, 5), stride=(1, 1))\n",
      "  (3): AvgPool2d(kernel_size=2, stride=2, padding=0)\n",
      "  (4): Flattener()\n",
      "  (5): Linear(in_features=400, out_features=120, bias=True)\n",
      "  (6): Sigmoid()\n",
      "  (7): Linear(in_features=120, out_features=84, bias=True)\n",
      "  (8): Sigmoid()\n",
      "  (9): Linear(in_features=84, out_features=10, bias=True)\n",
      "), train_history=[2.1807265281677246, 1.7880470752716064, 1.541155219078064, 1.3764957189559937, 1.3116097450256348, 1.2015132904052734, 1.1342804431915283, 1.076422095298767, 1.0233045816421509, 0.9898027777671814], val_history=[0.2112582329454322, 0.3779988397092448, 0.49030815957410506, 0.560693444357233, 0.5819540661365731, 0.6272565948878954, 0.6503941575947855, 0.6694365764597482, 0.6896904753779477, 0.6997406408900113], final_val_accuracy=0.7270493481673606)\n",
      "2 [0, 3]\n",
      "Hyperparams(learning_rate=1.0, anneal_epochs=1, reg=0.001)\n",
      "RunResult(model=Sequential(\n",
      "  (0): Conv2d(3, 6, kernel_size=(5, 5), stride=(1, 1))\n",
      "  (1): MaxPool2d(kernel_size=2, stride=2, padding=0, dilation=1, ceil_mode=False)\n",
      "  (2): Conv2d(6, 16, kernel_size=(5, 5), stride=(1, 1))\n",
      "  (3): AvgPool2d(kernel_size=2, stride=2, padding=0)\n",
      "  (4): Flattener()\n",
      "  (5): Linear(in_features=400, out_features=120, bias=True)\n",
      "  (6): Sigmoid()\n",
      "  (7): Linear(in_features=120, out_features=84, bias=True)\n",
      "  (8): Sigmoid()\n",
      "  (9): Linear(in_features=84, out_features=10, bias=True)\n",
      "), train_history=[2.0690627098083496, 1.5027825832366943, 1.2211629152297974, 1.058599591255188, 0.9157520532608032, 0.8217199444770813, 0.7383312582969666, 0.6779300570487976, 0.6314845681190491, 0.5998835563659668], val_history=[0.2598198136709552, 0.4951199535883698, 0.6139303143022898, 0.6761935637989285, 0.7245333242330136, 0.7536600348087227, 0.7808927413575402, 0.8017267856533461, 0.8153602020270962, 0.8261099546121558], final_val_accuracy=0.8425363456419357)\n",
      "Average loss: 1.958348, Train accuracy: 0.302205, Val accuracy: 0.457102\n",
      "Average loss: 1.728986, Train accuracy: 0.411852, Val accuracy: 0.259027\n",
      "Average loss: 1.930679, Train accuracy: 0.329540, Val accuracy: 0.409597\n",
      "Average loss: 1.921503, Train accuracy: 0.335938, Val accuracy: 0.267832\n",
      "Average loss: 2.161788, Train accuracy: 0.229516, Val accuracy: 0.227425\n",
      "Average loss: 2.154973, Train accuracy: 0.227485, Val accuracy: 0.237731\n",
      "Average loss: 2.144386, Train accuracy: 0.227622, Val accuracy: 0.237595\n",
      "Average loss: 2.149532, Train accuracy: 0.225864, Val accuracy: 0.214320\n",
      "Average loss: 2.143603, Train accuracy: 0.229157, Val accuracy: 0.240598\n",
      "Average loss: 2.118492, Train accuracy: 0.240044, Val accuracy: 0.252201\n",
      "Hyperparams(learning_rate=1.0, anneal_epochs=1, reg=1e-07)\n",
      "RunResult(model=Sequential(\n",
      "  (0): Conv2d(3, 6, kernel_size=(5, 5), stride=(1, 1))\n",
      "  (1): MaxPool2d(kernel_size=2, stride=2, padding=0, dilation=1, ceil_mode=False)\n",
      "  (2): Conv2d(6, 16, kernel_size=(5, 5), stride=(1, 1))\n",
      "  (3): AvgPool2d(kernel_size=2, stride=2, padding=0)\n",
      "  (4): Flattener()\n",
      "  (5): Linear(in_features=400, out_features=120, bias=True)\n",
      "  (6): Sigmoid()\n",
      "  (7): Linear(in_features=120, out_features=84, bias=True)\n",
      "  (8): Sigmoid()\n",
      "  (9): Linear(in_features=84, out_features=10, bias=True)\n",
      "), train_history=[1.9583475589752197, 1.7289856672286987, 1.930679440498352, 1.9215033054351807, 2.16178822517395, 2.154973268508911, 2.1443862915039062, 2.1495323181152344, 2.1436030864715576, 2.118492364883423], val_history=[0.3022045524349043, 0.4118520288025117, 0.32953963757977, 0.3359382998327816, 0.22951574924069207, 0.22748524041906973, 0.22762174521380063, 0.2258642459816401, 0.22915742415452342, 0.24004368153431388], final_val_accuracy=0.25220121493413417)\n",
      "2 [0, 1]\n",
      "Hyperparams(learning_rate=1.0, anneal_epochs=1, reg=0.001)\n",
      "RunResult(model=Sequential(\n",
      "  (0): Conv2d(3, 6, kernel_size=(5, 5), stride=(1, 1))\n",
      "  (1): MaxPool2d(kernel_size=2, stride=2, padding=0, dilation=1, ceil_mode=False)\n",
      "  (2): Conv2d(6, 16, kernel_size=(5, 5), stride=(1, 1))\n",
      "  (3): AvgPool2d(kernel_size=2, stride=2, padding=0)\n",
      "  (4): Flattener()\n",
      "  (5): Linear(in_features=400, out_features=120, bias=True)\n",
      "  (6): Sigmoid()\n",
      "  (7): Linear(in_features=120, out_features=84, bias=True)\n",
      "  (8): Sigmoid()\n",
      "  (9): Linear(in_features=84, out_features=10, bias=True)\n",
      "), train_history=[2.0690627098083496, 1.5027825832366943, 1.2211629152297974, 1.058599591255188, 0.9157520532608032, 0.8217199444770813, 0.7383312582969666, 0.6779300570487976, 0.6314845681190491, 0.5998835563659668], val_history=[0.2598198136709552, 0.4951199535883698, 0.6139303143022898, 0.6761935637989285, 0.7245333242330136, 0.7536600348087227, 0.7808927413575402, 0.8017267856533461, 0.8153602020270962, 0.8261099546121558], final_val_accuracy=0.8425363456419357)\n",
      "Average loss: 1.977806, Train accuracy: 0.293519, Val accuracy: 0.461334\n",
      "Average loss: 1.633929, Train accuracy: 0.448435, Val accuracy: 0.450345\n",
      "Average loss: 1.800656, Train accuracy: 0.385882, Val accuracy: 0.286533\n",
      "Average loss: 2.101141, Train accuracy: 0.251527, Val accuracy: 0.227630\n",
      "Average loss: 2.115157, Train accuracy: 0.243507, Val accuracy: 0.278616\n",
      "Average loss: 2.040656, Train accuracy: 0.275450, Val accuracy: 0.299229\n",
      "Average loss: 1.993609, Train accuracy: 0.301386, Val accuracy: 0.299638\n",
      "Average loss: 2.058073, Train accuracy: 0.268505, Val accuracy: 0.262781\n",
      "Average loss: 2.024111, Train accuracy: 0.284408, Val accuracy: 0.334039\n",
      "Average loss: 1.989346, Train accuracy: 0.300157, Val accuracy: 0.316975\n",
      "Hyperparams(learning_rate=1.0, anneal_epochs=1, reg=0.0001)\n",
      "RunResult(model=Sequential(\n",
      "  (0): Conv2d(3, 6, kernel_size=(5, 5), stride=(1, 1))\n",
      "  (1): MaxPool2d(kernel_size=2, stride=2, padding=0, dilation=1, ceil_mode=False)\n",
      "  (2): Conv2d(6, 16, kernel_size=(5, 5), stride=(1, 1))\n",
      "  (3): AvgPool2d(kernel_size=2, stride=2, padding=0)\n",
      "  (4): Flattener()\n",
      "  (5): Linear(in_features=400, out_features=120, bias=True)\n",
      "  (6): Sigmoid()\n",
      "  (7): Linear(in_features=120, out_features=84, bias=True)\n",
      "  (8): Sigmoid()\n",
      "  (9): Linear(in_features=84, out_features=10, bias=True)\n",
      "), train_history=[1.9778058528900146, 1.6339294910430908, 1.8006560802459717, 2.1011414527893066, 2.11515736579895, 2.040656328201294, 1.993609070777893, 2.0580732822418213, 2.0241105556488037, 1.9893455505371094], val_history=[0.2935194348701498, 0.44843531379039686, 0.3858819916049551, 0.2515271473910521, 0.24350749070061087, 0.27544961266764495, 0.3013855236665188, 0.2685049312357097, 0.28440773982186124, 0.3001569805139406], final_val_accuracy=0.3169749505153232)\n"
     ]
    }
   ],
   "source": [
    "import random\n",
    "import math\n",
    "# The key hyperparameters we're going to tune are learning speed, annealing rate and regularization\n",
    "# We also encourage you to try different optimizers as well\n",
    "\n",
    "Hyperparams = namedtuple(\"Hyperparams\", ['learning_rate', 'anneal_epochs', 'reg'])\n",
    "RunResult = namedtuple(\"RunResult\", ['model', 'train_history', 'val_history', 'final_val_accuracy'])\n",
    "\n",
    "learning_rates = [1e0, 1e-1, 1e-2, 1e-3, 1e-4]\n",
    "anneal_coeff = 0.2\n",
    "anneal_epochs = [1, 5, 10, 15, 20, 50]\n",
    "reg = [1e-3, 1e-4, 1e-5, 1e-7]\n",
    "\n",
    "batch_size = 64\n",
    "epoch_num = 10\n",
    "\n",
    "# Record all the runs here\n",
    "# Key should be Hyperparams and values should be RunResult\n",
    "run_record = {} \n",
    "\n",
    "# Use grid search or random search and record all runs in run_record dictionnary \n",
    "# Important: perform search in logarithmic space!\n",
    "\n",
    "# TODO: Your code here!\n",
    "def lenet_gen():\n",
    "    model = nn.Sequential(\n",
    "                nn.Conv2d(3, 6, 5), \n",
    "                nn.MaxPool2d(2, stride=2),\n",
    "                nn.Conv2d(6, 16, 5),\n",
    "                nn.AvgPool2d(2, stride=2),\n",
    "                Flattener(),\n",
    "                nn.Linear(400, 120),\n",
    "                nn.Sigmoid(),\n",
    "                nn.Linear(120, 84),\n",
    "                nn.Sigmoid(),\n",
    "                nn.Linear(84, 10)\n",
    "    )\n",
    "    model.type(torch.cuda.FloatTensor)\n",
    "    model.to(device)\n",
    "    return model\n",
    "\n",
    "loss = nn.CrossEntropyLoss().type(torch.cuda.FloatTensor)\n",
    "\n",
    "data_aug_train = dset.SVHN('./data', transform=tfs)\n",
    "train_aug_loader = torch.utils.data.DataLoader(data_aug_train, batch_size=batch_size, sampler=train_sampler)\n",
    "val_loader = torch.utils.data.DataLoader(data_train, batch_size=batch_size,\n",
    "                                         sampler=val_sampler)\n",
    "\n",
    "learning_rates_inds = [0, len(learning_rates) - 1]\n",
    "anneal_epochs_inds = [0, len(anneal_epochs) - 1]\n",
    "reg_inds = [0, len(reg) - 1]\n",
    "\n",
    "hyperparams = [learning_rates, anneal_epochs, reg]\n",
    "hyperparams_inds = [learning_rates_inds, anneal_epochs_inds, reg_inds]\n",
    "\n",
    "def isConverged(inds):\n",
    "    return inds[0] == inds[1]\n",
    "\n",
    "for i in range(len(hyperparams_inds)):\n",
    "    while not isConverged(hyperparams_inds[i]):\n",
    "        print(i, hyperparams_inds[i])\n",
    "        lParams = Hyperparams(learning_rates[learning_rates_inds[0]], anneal_epochs[anneal_epochs_inds[0]], reg[reg_inds[0]])\n",
    "        if not lParams in run_record.keys():\n",
    "            model = lenet_gen()\n",
    "            optimizer = optim.SGD(model.parameters(), lr=lParams.learning_rate, weight_decay=lParams.reg)\n",
    "            scheduler = optim.lr_scheduler.StepLR(optimizer, step_size=lParams.anneal_epochs, gamma=(1 - anneal_coeff))\n",
    "            l_loss_history, l_train_history, l_val_history = train_model(model, train_aug_loader, val_loader, loss, optimizer, epoch_num, scheduler)\n",
    "            run_record[lParams] = RunResult(model, l_loss_history, l_train_history, l_val_history[-1])\n",
    "        print(lParams)\n",
    "        print(run_record[lParams])\n",
    "\n",
    "        rParamsArr = [*lParams]\n",
    "        rParamsArr[i] = hyperparams[i][hyperparams_inds[i][-1]]\n",
    "        rParams = Hyperparams(*rParamsArr)\n",
    "        if not rParams in run_record.keys():\n",
    "            model = lenet_gen()\n",
    "            optimizer = optim.SGD(model.parameters(), lr=rParams.learning_rate, weight_decay=rParams.reg)\n",
    "            scheduler = optim.lr_scheduler.StepLR(optimizer, step_size=rParams.anneal_epochs, gamma=(1 - anneal_coeff))\n",
    "            r_loss_history, r_train_history, r_val_history = train_model(model, train_aug_loader, val_loader, loss, optimizer, epoch_num, scheduler)\n",
    "            run_record[rParams] = RunResult(model, r_loss_history, r_train_history, r_val_history[-1])\n",
    "        print(rParams)\n",
    "        print(run_record[rParams])\n",
    "\n",
    "        step = math.ceil((hyperparams_inds[i][1] - hyperparams_inds[i][0]) / 2)\n",
    "        if run_record[lParams].final_val_accuracy > run_record[rParams].final_val_accuracy:\n",
    "            hyperparams_inds[i][1] -= step\n",
    "        else:\n",
    "            hyperparams_inds[i][0] += step\n"
   ]
  },
  {
   "cell_type": "code",
   "execution_count": 53,
   "metadata": {
    "colab": {
     "base_uri": "https://localhost:8080/",
     "height": 34
    },
    "colab_type": "code",
    "id": "Y6xExdw8JB1l",
    "outputId": "a9ad86f8-3e29-45cc-d33f-e6170018a4ed"
   },
   "outputs": [
    {
     "output_type": "stream",
     "name": "stdout",
     "text": [
      "Best validation accuracy: 0.84, best hyperparams: Hyperparams(learning_rate=1.0, anneal_epochs=1, reg=0.001)\n"
     ]
    }
   ],
   "source": [
    "best_val_accuracy = None\n",
    "best_hyperparams = None\n",
    "best_run = None\n",
    "\n",
    "for hyperparams, run_result in run_record.items():\n",
    "    if best_val_accuracy is None or best_val_accuracy < run_result.final_val_accuracy:\n",
    "        best_val_accuracy = run_result.final_val_accuracy\n",
    "        best_hyperparams = hyperparams\n",
    "        best_run = run_result\n",
    "        \n",
    "print(\"Best validation accuracy: %4.2f, best hyperparams: %s\" % (best_val_accuracy, best_hyperparams))\n",
    "        "
   ]
  },
  {
   "cell_type": "markdown",
   "metadata": {
    "colab_type": "text",
    "id": "LOmsR0uVgtgf"
   },
   "source": [
    "# Свободное упражнение - догоним и перегоним LeNet!\n",
    "\n",
    "Попробуйте найти архитектуру и настройки тренировки, чтобы выступить лучше наших бейзлайнов.\n",
    "\n",
    "Что можно и нужно попробовать:\n",
    "- BatchNormalization (для convolution layers он в PyTorch называется [batchnorm2d](https://pytorch.org/docs/stable/nn.html#batchnorm2d))\n",
    "- Изменить количество слоев и их толщину\n",
    "- Изменять количество эпох тренировки\n",
    "- Попробовать и другие агментации"
   ]
  },
  {
   "cell_type": "code",
   "execution_count": 54,
   "metadata": {
    "colab": {},
    "colab_type": "code",
    "id": "tSVhD747icoc"
   },
   "outputs": [
    {
     "output_type": "stream",
     "name": "stdout",
     "text": [
      "Average loss: 1.025228, Train accuracy: 0.694349, Val accuracy: 0.852775\n",
      "Average loss: 0.557760, Train accuracy: 0.830222, Val accuracy: 0.867859\n",
      "Average loss: 0.481190, Train accuracy: 0.852967, Val accuracy: 0.878370\n",
      "Average loss: 0.449215, Train accuracy: 0.862744, Val accuracy: 0.883967\n",
      "Average loss: 0.411667, Train accuracy: 0.874416, Val accuracy: 0.893045\n",
      "Average loss: 0.395439, Train accuracy: 0.879449, Val accuracy: 0.894273\n",
      "Average loss: 0.368580, Train accuracy: 0.887503, Val accuracy: 0.891885\n",
      "Average loss: 0.354072, Train accuracy: 0.891479, Val accuracy: 0.896935\n",
      "Average loss: 0.339017, Train accuracy: 0.896478, Val accuracy: 0.903078\n",
      "Average loss: 0.332510, Train accuracy: 0.898287, Val accuracy: 0.902532\n",
      "Average loss: 0.318565, Train accuracy: 0.902877, Val accuracy: 0.902054\n",
      "Average loss: 0.310325, Train accuracy: 0.905641, Val accuracy: 0.903283\n",
      "Average loss: 0.300654, Train accuracy: 0.907586, Val accuracy: 0.903966\n",
      "Average loss: 0.302442, Train accuracy: 0.908218, Val accuracy: 0.904580\n",
      "Average loss: 0.287487, Train accuracy: 0.912296, Val accuracy: 0.907788\n",
      "Average loss: 0.285277, Train accuracy: 0.913115, Val accuracy: 0.906286\n",
      "Average loss: 0.278148, Train accuracy: 0.914002, Val accuracy: 0.906832\n",
      "Average loss: 0.278733, Train accuracy: 0.915196, Val accuracy: 0.906491\n",
      "Average loss: 0.271617, Train accuracy: 0.918268, Val accuracy: 0.907515\n",
      "Average loss: 0.272198, Train accuracy: 0.916544, Val accuracy: 0.909631\n"
     ]
    }
   ],
   "source": [
    "best_model = nn.Sequential(\n",
    "    nn.Conv2d(3, 6 * 3, 5), \n",
    "    nn.MaxPool2d(2, stride=2),\n",
    "    nn.BatchNorm2d(6 * 3),\n",
    "    nn.Conv2d(6 * 3, 16 * 3, 5),\n",
    "    nn.AvgPool2d(2, stride=2),\n",
    "    nn.BatchNorm2d(16 * 3),\n",
    "    Flattener(),\n",
    "    nn.Linear(5 * 5 * 16 * 3, 120),\n",
    "    nn.BatchNorm1d(120),\n",
    "    nn.ReLU(), \n",
    "    nn.Linear(120, 84),\n",
    "    nn.BatchNorm1d(84),\n",
    "    nn.ReLU(), \n",
    "    nn.Linear(84, 10)\n",
    ")\n",
    "\n",
    "best_model.type(torch.cuda.FloatTensor)\n",
    "best_model.to(device)\n",
    "\n",
    "loss = nn.CrossEntropyLoss().type(torch.cuda.FloatTensor)\n",
    "learning_rate = 5e-4\n",
    "l2 = 1e-4\n",
    "\n",
    "optimizer = optim.Adam(best_model.parameters(), lr=learning_rate, weight_decay=l2)\n",
    "scheduler = optim.lr_scheduler.StepLR(optimizer, step_size=2, gamma=0.75)\n",
    "\n",
    "tfs = transforms.Compose([\n",
    "    transforms.ColorJitter(hue=.20, saturation=.20),\n",
    "    transforms.RandomRotation(10, resample=PIL.Image.BILINEAR),\n",
    "    transforms.ToTensor(),\n",
    "    transforms.Normalize(mean=[0.43,0.44,0.47],\n",
    "                       std=[0.20,0.20,0.20])                           \n",
    "])\n",
    "\n",
    "data_aug_train = dset.SVHN('./data', transform=tfs)\n",
    "\n",
    "batch_size = 64\n",
    "epoches = 20\n",
    "\n",
    "train_sampler = SubsetRandomSampler(train_indices[:])\n",
    "val_sampler = SubsetRandomSampler(val_indices[:])\n",
    "\n",
    "train_aug_loader = torch.utils.data.DataLoader(data_aug_train, batch_size=batch_size, sampler=train_sampler)\n",
    "val_loader = torch.utils.data.DataLoader(data_train, batch_size=batch_size,\n",
    "                                         sampler=val_sampler)\n",
    "\n",
    "loss_history, train_history, val_history = train_model(best_model, train_aug_loader, val_loader, loss, optimizer, epoches, scheduler)"
   ]
  },
  {
   "cell_type": "markdown",
   "metadata": {
    "colab_type": "text",
    "id": "ubeKgBcnhx7N"
   },
   "source": [
    "# Финальный аккорд - проверим лучшую модель на test set\n",
    "\n",
    "В качестве разнообразия - напишите код для прогона модели на test set вы.\n",
    "\n",
    "В результате вы должны натренировать модель, которая покажет более **90%** точности на test set.  \n",
    "Как водится, лучший результат в группе получит дополнительные баллы!"
   ]
  },
  {
   "cell_type": "code",
   "execution_count": 55,
   "metadata": {},
   "outputs": [],
   "source": [
    "test_loader = torch.utils.data.DataLoader(data_test)"
   ]
  },
  {
   "cell_type": "code",
   "execution_count": 56,
   "metadata": {
    "colab": {},
    "colab_type": "code",
    "id": "EIqM1kdeh-hd"
   },
   "outputs": [
    {
     "output_type": "stream",
     "name": "stdout",
     "text": [
      "Final test accuracy -  0.8963967424708051\n"
     ]
    }
   ],
   "source": [
    "# TODO Write the code to compute accuracy on test set\n",
    "final_test_accuracy = compute_accuracy(best_model, test_loader)\n",
    "print(\"Final test accuracy - \", final_test_accuracy)"
   ]
  },
  {
   "cell_type": "code",
   "execution_count": null,
   "metadata": {
    "colab": {},
    "colab_type": "code",
    "id": "BfH6qip6kVX_"
   },
   "outputs": [],
   "source": []
  }
 ],
 "metadata": {
  "accelerator": "GPU",
  "colab": {
   "collapsed_sections": [],
   "name": "PyTorch_CNN.ipynb",
   "provenance": [],
   "version": "0.3.2"
  },
  "kernelspec": {
   "name": "Python 3.7.9 64-bit ('dlcourse': conda)",
   "display_name": "Python 3.7.9 64-bit ('dlcourse': conda)",
   "metadata": {
    "interpreter": {
     "hash": "a4989732f2ed50cf63bab505d8b9cf13d81729f8e91c88bdb9209cddfb2e54c7"
    }
   }
  },
  "language_info": {
   "codemirror_mode": {
    "name": "ipython",
    "version": 3
   },
   "file_extension": ".py",
   "mimetype": "text/x-python",
   "name": "python",
   "nbconvert_exporter": "python",
   "pygments_lexer": "ipython3",
   "version": "3.7.9-final"
  }
 },
 "nbformat": 4,
 "nbformat_minor": 1
}